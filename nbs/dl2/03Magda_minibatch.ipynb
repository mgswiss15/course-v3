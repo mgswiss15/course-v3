{
 "cells": [
  {
   "cell_type": "markdown",
   "metadata": {},
   "source": [
    "## Iinit setup"
   ]
  },
  {
   "cell_type": "code",
   "execution_count": 1,
   "metadata": {
    "run_control": {
     "marked": false
    },
    "tags": [
     "#magic"
    ]
   },
   "outputs": [],
   "source": [
    "%matplotlib inline\n",
    "%load_ext autoreload\n",
    "%autoreload 2"
   ]
  },
  {
   "cell_type": "code",
   "execution_count": 2,
   "metadata": {
    "run_control": {
     "marked": false
    },
    "tags": [
     "#imports",
     "=>magic"
    ]
   },
   "outputs": [],
   "source": [
    "#export\n",
    "import gzip\n",
    "from pathlib import Path\n",
    "import torch\n",
    "import pickle\n",
    "import torch.nn as nn\n",
    "import torch.nn.functional as F"
   ]
  },
  {
   "cell_type": "markdown",
   "metadata": {
    "heading_collapsed": true
   },
   "source": [
    "### Get data"
   ]
  },
  {
   "cell_type": "code",
   "execution_count": null,
   "metadata": {
    "hidden": true,
    "run_control": {
     "marked": false
    }
   },
   "outputs": [],
   "source": [
    "def get_mnist():\n",
    "    data_file = Path('/home/magda/datasets/mnist')/'mnist.pkl.gz'\n",
    "    with gzip.open(data_file, 'rb') as f:\n",
    "        (train_x, train_y), (valid_x, valid_y), (test_x, test_y) = pickle.load(f, encoding='latin1')\n",
    "    train_x, valid_x, test_x, = [\n",
    "        torch.tensor(x, dtype=torch.float) for x in (train_x, valid_x, test_x)]\n",
    "    train_y, valid_y, test_y = [torch.tensor(x, dtype=torch.long).unsqueeze(-1) for x in (train_y, valid_y, test_y)]\n",
    "#     train_x, train_y, valid_x, valid_y, test_x, test_y = [\n",
    "#         torch.tensor(x, dtype=torch.float) for x in (train_x, train_y, valid_x, valid_y, test_x, test_y)]\n",
    "#     train_y, valid_y, test_y = [torch.unsqueeze(x, -1) for x in (train_y, valid_y, test_y)]\n",
    "    return train_x, train_y, valid_x, valid_y, test_x, test_y"
   ]
  },
  {
   "cell_type": "code",
   "execution_count": null,
   "metadata": {
    "hidden": true,
    "run_control": {
     "marked": false
    }
   },
   "outputs": [],
   "source": [
    "train_x, train_y, valid_x, valid_y, test_x, test_y = get_mnist()\n",
    "train_x.shape"
   ]
  },
  {
   "cell_type": "code",
   "execution_count": null,
   "metadata": {
    "hidden": true,
    "run_control": {
     "marked": false
    }
   },
   "outputs": [],
   "source": [
    "def normalize(x, center, scale):\n",
    "    return (x - center) / scale"
   ]
  },
  {
   "cell_type": "code",
   "execution_count": null,
   "metadata": {
    "hidden": true,
    "run_control": {
     "marked": false
    }
   },
   "outputs": [],
   "source": [
    "center_x = train_x.mean()\n",
    "scale_x = train_x.std()\n",
    "train_x, valid_x, test_x = [normalize(x, center_x, scale_x) for x in (train_x, valid_x, test_x)]\n",
    "valid_x.mean(), valid_x.std()"
   ]
  },
  {
   "cell_type": "markdown",
   "metadata": {
    "heading_collapsed": true
   },
   "source": [
    "### Define basic model (torch.nn)"
   ]
  },
  {
   "cell_type": "code",
   "execution_count": null,
   "metadata": {
    "hidden": true,
    "run_control": {
     "marked": false
    }
   },
   "outputs": [],
   "source": [
    "num_in, dim_in = train_x.shape\n",
    "dim_hidden = 50\n",
    "dim_out = torch.unique(train_y).numel()\n",
    "dim_out"
   ]
  },
  {
   "cell_type": "code",
   "execution_count": null,
   "metadata": {
    "hidden": true,
    "run_control": {
     "marked": false
    }
   },
   "outputs": [],
   "source": [
    "class MyNet(nn.Module):\n",
    "    def __init__(self, d_in, d_hidden, d_out):\n",
    "        super(MyNet, self).__init__()\n",
    "        self.layers = [nn.Linear(d_in, d_hidden), nn.ReLU(), nn.Linear(d_hidden, d_out)]\n",
    "        for l, layer in enumerate(self.layers):\n",
    "            self.add_module(f'layer_{l}', layer)\n",
    "    \n",
    "    def __call__(self, x):\n",
    "        for layer in self.layers:\n",
    "            x = layer(x)\n",
    "        return x"
   ]
  },
  {
   "cell_type": "code",
   "execution_count": null,
   "metadata": {
    "hidden": true,
    "run_control": {
     "marked": false
    }
   },
   "outputs": [],
   "source": [
    "mynet = MyNet(dim_in, dim_hidden, dim_out)"
   ]
  },
  {
   "cell_type": "code",
   "execution_count": null,
   "metadata": {
    "hidden": true,
    "run_control": {
     "marked": false
    }
   },
   "outputs": [],
   "source": [
    "mynet"
   ]
  },
  {
   "cell_type": "code",
   "execution_count": null,
   "metadata": {
    "hidden": true,
    "run_control": {
     "marked": false
    }
   },
   "outputs": [],
   "source": [
    "for param in mynet.named_parameters():\n",
    "    print(param)"
   ]
  },
  {
   "cell_type": "code",
   "execution_count": null,
   "metadata": {
    "hidden": true,
    "run_control": {
     "marked": false
    }
   },
   "outputs": [],
   "source": [
    "outs = mynet(train_x)\n",
    "outs"
   ]
  },
  {
   "cell_type": "markdown",
   "metadata": {
    "heading_collapsed": true
   },
   "source": [
    "### cross entropy loss"
   ]
  },
  {
   "cell_type": "markdown",
   "metadata": {
    "hidden": true
   },
   "source": [
    "$$\\frac{\\exp(x_i)}{\\sum_i \\exp(x_i)}$$"
   ]
  },
  {
   "cell_type": "code",
   "execution_count": null,
   "metadata": {
    "hidden": true,
    "run_control": {
     "marked": false
    }
   },
   "outputs": [],
   "source": [
    "def softmax(logits):\n",
    "    exps = logits.exp()\n",
    "    return exps / exps.sum(1, keepdims=True)"
   ]
  },
  {
   "cell_type": "code",
   "execution_count": null,
   "metadata": {
    "hidden": true,
    "run_control": {
     "marked": false
    }
   },
   "outputs": [],
   "source": [
    "softmax(outs).sum(1)"
   ]
  },
  {
   "cell_type": "markdown",
   "metadata": {
    "heading_collapsed": true
   },
   "source": [
    "### log-softmax"
   ]
  },
  {
   "cell_type": "code",
   "execution_count": null,
   "metadata": {
    "hidden": true,
    "run_control": {
     "marked": false
    }
   },
   "outputs": [],
   "source": [
    "def log_softmax(logits):\n",
    "    return softmax(logits).log()"
   ]
  },
  {
   "cell_type": "code",
   "execution_count": null,
   "metadata": {
    "hidden": true,
    "run_control": {
     "marked": false
    }
   },
   "outputs": [],
   "source": [
    "log_softmax(outs)[[0, 1, 2], train_y[:3].squeeze(-1)]"
   ]
  },
  {
   "cell_type": "markdown",
   "metadata": {
    "heading_collapsed": true
   },
   "source": [
    "### nll"
   ]
  },
  {
   "cell_type": "code",
   "execution_count": null,
   "metadata": {
    "hidden": true,
    "run_control": {
     "marked": false
    }
   },
   "outputs": [],
   "source": [
    "def nll(logits, targets):\n",
    "    return -log_softmax(logits)[[range(num_in)], targets.squeeze(-1)].mean()"
   ]
  },
  {
   "cell_type": "code",
   "execution_count": null,
   "metadata": {
    "hidden": true,
    "run_control": {
     "marked": false
    }
   },
   "outputs": [],
   "source": [
    "nll(outs, train_y)"
   ]
  },
  {
   "cell_type": "markdown",
   "metadata": {
    "heading_collapsed": true
   },
   "source": [
    "### log-softmax directly + nll"
   ]
  },
  {
   "cell_type": "code",
   "execution_count": null,
   "metadata": {
    "hidden": true,
    "run_control": {
     "marked": false
    }
   },
   "outputs": [],
   "source": [
    "def log_softmax2(logits):\n",
    "    return logits - logits.exp().sum(1, keepdims=True).log()"
   ]
  },
  {
   "cell_type": "code",
   "execution_count": null,
   "metadata": {
    "hidden": true,
    "run_control": {
     "marked": false
    }
   },
   "outputs": [],
   "source": [
    "def nll2(logits, targets):\n",
    "    return -log_softmax2(logits)[[range(num_in)], targets.squeeze(-1)].mean()"
   ]
  },
  {
   "cell_type": "code",
   "execution_count": null,
   "metadata": {
    "hidden": true,
    "run_control": {
     "marked": false
    }
   },
   "outputs": [],
   "source": [
    "from exp.nb_01Magda import *\n",
    "test_near(nll(outs, train_y), nll2(outs, train_y))"
   ]
  },
  {
   "cell_type": "markdown",
   "metadata": {
    "heading_collapsed": true
   },
   "source": [
    "### logsumexp + log-softmax + nll\n",
    "\n",
    "$$\\log \\sum_i \\exp(x_i) = \\log \\sum_i [\\exp(x_i) \\frac{\\exp(max_x)}{\\exp(max_x)}] = \\log [\\exp(max_x) \\sum_i \\exp(x_i - max_x)] = max_x + \\log \\sum_i \\exp(x_i - max_x)$$"
   ]
  },
  {
   "cell_type": "code",
   "execution_count": null,
   "metadata": {
    "hidden": true,
    "run_control": {
     "marked": false
    }
   },
   "outputs": [],
   "source": [
    "def logsumexp(x):\n",
    "    max_x, _ = x.max(1, keepdim=True)\n",
    "    return (max_x + (x-max_x).exp().sum(1, keepdim=True).log())"
   ]
  },
  {
   "cell_type": "code",
   "execution_count": null,
   "metadata": {
    "hidden": true,
    "run_control": {
     "marked": false
    }
   },
   "outputs": [],
   "source": [
    "def nll3(logits, targets):\n",
    "    return -(logits - logsumexp(logits))[[range(num_in)], targets.squeeze(-1)].mean()"
   ]
  },
  {
   "cell_type": "code",
   "execution_count": null,
   "metadata": {
    "hidden": true,
    "run_control": {
     "marked": false
    }
   },
   "outputs": [],
   "source": [
    "test_near(nll(outs, train_y), nll3(outs, train_y))"
   ]
  },
  {
   "cell_type": "markdown",
   "metadata": {
    "heading_collapsed": true
   },
   "source": [
    "### F.nll and F.cross-entropy"
   ]
  },
  {
   "cell_type": "code",
   "execution_count": null,
   "metadata": {
    "hidden": true,
    "run_control": {
     "marked": false
    }
   },
   "outputs": [],
   "source": [
    "nll_torch = F.nll_loss(log_softmax(outs).squeeze(-1), train_y.squeeze(-1))\n",
    "nll_torch"
   ]
  },
  {
   "cell_type": "code",
   "execution_count": null,
   "metadata": {
    "hidden": true,
    "run_control": {
     "marked": false
    }
   },
   "outputs": [],
   "source": [
    "nll_my = nll3(outs, train_y)\n",
    "nll_my"
   ]
  },
  {
   "cell_type": "code",
   "execution_count": null,
   "metadata": {
    "hidden": true,
    "run_control": {
     "marked": false
    }
   },
   "outputs": [],
   "source": [
    "test_near(nll_torch, nll_my)"
   ]
  },
  {
   "cell_type": "code",
   "execution_count": null,
   "metadata": {
    "hidden": true,
    "run_control": {
     "marked": false
    }
   },
   "outputs": [],
   "source": [
    "cross_entropy = F.cross_entropy(outs.squeeze(-1), train_y.squeeze(-1))\n",
    "cross_entropy"
   ]
  },
  {
   "cell_type": "code",
   "execution_count": null,
   "metadata": {
    "hidden": true,
    "run_control": {
     "marked": false
    }
   },
   "outputs": [],
   "source": [
    "test_near(logsumexp(outs), outs.logsumexp(1, keepdim=True))"
   ]
  },
  {
   "cell_type": "code",
   "execution_count": null,
   "metadata": {
    "hidden": true,
    "run_control": {
     "marked": false
    }
   },
   "outputs": [],
   "source": [
    "test_near(softmax(outs), outs.softmax(1))"
   ]
  },
  {
   "cell_type": "markdown",
   "metadata": {},
   "source": [
    "## basic training loop\n",
    "\n",
    "* get output over batch\n",
    "* compute loss\n",
    "* get gradients\n",
    "* update parameters"
   ]
  },
  {
   "cell_type": "markdown",
   "metadata": {},
   "source": [
    "`get_mnist` once again with targets rank 1 vectors long integers"
   ]
  },
  {
   "cell_type": "code",
   "execution_count": 3,
   "metadata": {
    "run_control": {
     "marked": false
    },
    "tags": [
     "#get_mnist",
     "=>imports"
    ]
   },
   "outputs": [],
   "source": [
    "#export\n",
    "def get_mnist():\n",
    "    data_file = Path('/home/magda/datasets/mnist')/'mnist.pkl.gz'\n",
    "    with gzip.open(data_file, 'rb') as f:\n",
    "        (train_x, train_y), (valid_x, valid_y), (test_x, test_y) = pickle.load(f, encoding='latin1')\n",
    "    train_x, valid_x, test_x, = [\n",
    "        torch.tensor(x, dtype=torch.float) for x in (train_x, valid_x, test_x)]\n",
    "    train_y, valid_y, test_y = [torch.tensor(x, dtype=torch.long) for x in (train_y, valid_y, test_y)]\n",
    "    return train_x, train_y, valid_x, valid_y, test_x, test_y"
   ]
  },
  {
   "cell_type": "code",
   "execution_count": 4,
   "metadata": {
    "run_control": {
     "marked": false
    },
    "tags": [
     "#normalize"
    ]
   },
   "outputs": [],
   "source": [
    "#export\n",
    "def normalize(data_for_stats, data_to_norm=None):\n",
    "    if data_to_norm is None:\n",
    "        data_to_norm = data_for_stats\n",
    "    center = data_for_stats.mean()\n",
    "    scale = data_for_stats.std()\n",
    "    return (data_to_norm - center) / scale"
   ]
  },
  {
   "cell_type": "code",
   "execution_count": null,
   "metadata": {
    "run_control": {
     "marked": false
    }
   },
   "outputs": [],
   "source": [
    "train_x, train_y, valid_x, valid_y, test_x, test_y = get_mnist()"
   ]
  },
  {
   "cell_type": "code",
   "execution_count": null,
   "metadata": {
    "run_control": {
     "marked": false
    }
   },
   "outputs": [],
   "source": [
    "from functools import partial\n",
    "norm_by_train = partial(normalize, data_to_norm = train_x)"
   ]
  },
  {
   "cell_type": "code",
   "execution_count": null,
   "metadata": {
    "run_control": {
     "marked": false
    }
   },
   "outputs": [],
   "source": [
    "train_x, valid_x, test_x = [norm_by_train(x) for x in (train_x, valid_x, test_x)]"
   ]
  },
  {
   "cell_type": "code",
   "execution_count": null,
   "metadata": {
    "run_control": {
     "marked": false
    }
   },
   "outputs": [],
   "source": [
    "test_x.mean(), test_x.std()"
   ]
  },
  {
   "cell_type": "code",
   "execution_count": null,
   "metadata": {
    "run_control": {
     "marked": false
    }
   },
   "outputs": [],
   "source": [
    "num_in, dim_in = train_x.shape\n",
    "dim_hidden = 50\n",
    "dim_out = torch.unique(train_y).numel()\n",
    "dim_out"
   ]
  },
  {
   "cell_type": "markdown",
   "metadata": {
    "heading_collapsed": true
   },
   "source": [
    "### manual batch loading + manual SGD (torch.nn.functional mse loss)"
   ]
  },
  {
   "cell_type": "code",
   "execution_count": null,
   "metadata": {
    "hidden": true,
    "run_control": {
     "marked": false
    }
   },
   "outputs": [],
   "source": [
    "class MyNet(nn.Module):\n",
    "    def __init__(self, d_in, d_hidden, d_out):\n",
    "        super(MyNet, self).__init__()\n",
    "        self.lin1 = nn.Linear(d_in, d_hidden)\n",
    "        self.relu = nn.ReLU()\n",
    "        self.lin2 = nn.Linear(d_hidden, d_out)\n",
    "        \n",
    "    def __call__(self,x):\n",
    "        x = self.lin1(x)\n",
    "        x = self.relu(x)\n",
    "        return self.lin2(x)    "
   ]
  },
  {
   "cell_type": "code",
   "execution_count": null,
   "metadata": {
    "hidden": true,
    "run_control": {
     "marked": false
    }
   },
   "outputs": [],
   "source": [
    "mynet = MyNet(dim_in, dim_hidden, dim_out)"
   ]
  },
  {
   "cell_type": "code",
   "execution_count": null,
   "metadata": {
    "hidden": true,
    "run_control": {
     "marked": false
    }
   },
   "outputs": [],
   "source": [
    "loss_func = F.cross_entropy\n",
    "loss_func"
   ]
  },
  {
   "cell_type": "code",
   "execution_count": null,
   "metadata": {
    "hidden": true,
    "run_control": {
     "marked": false
    }
   },
   "outputs": [],
   "source": [
    "batch_size = 5000\n",
    "num_epochs = 10\n",
    "learn_rate = 0.01"
   ]
  },
  {
   "cell_type": "code",
   "execution_count": null,
   "metadata": {
    "hidden": true,
    "run_control": {
     "marked": false
    }
   },
   "outputs": [],
   "source": [
    "losses = []\n",
    "for epoch in range(num_epochs):\n",
    "    print('Epoch: ', epoch)\n",
    "    loss_epoch = 0\n",
    "    for bidx, bstart in enumerate(range(0, num_in, batch_size)):\n",
    "        batch_x = train_x[bstart:bstart+batch_size]\n",
    "        batch_y = train_y[bstart:bstart+batch_size]\n",
    "        outs = mynet(batch_x)\n",
    "        loss = loss_func(outs, batch_y)\n",
    "        loss.backward()\n",
    "        with torch.no_grad():\n",
    "            for param in mynet.parameters():\n",
    "                param -= learn_rate * param.grad\n",
    "            mynet.zero_grad()\n",
    "        loss_epoch += loss\n",
    "    print('loss', loss_epoch / (bidx+1))\n",
    "    losses.append(loss_epoch / (bidx+1))"
   ]
  },
  {
   "cell_type": "markdown",
   "metadata": {},
   "source": [
    "### parameters\n",
    "\n",
    "* use `nn.Module.__setattr__`"
   ]
  },
  {
   "cell_type": "markdown",
   "metadata": {},
   "source": [
    "### registering modules"
   ]
  },
  {
   "cell_type": "markdown",
   "metadata": {
    "heading_collapsed": true
   },
   "source": [
    "#### nn.ModuleList"
   ]
  },
  {
   "cell_type": "code",
   "execution_count": null,
   "metadata": {
    "hidden": true,
    "run_control": {
     "marked": false
    }
   },
   "outputs": [],
   "source": [
    "layers = [nn.Linear(dim_in, dim_hidden), nn.ReLU(), nn.Linear(dim_hidden, dim_out)]\n",
    "class MyModel(nn.Module):\n",
    "    def __init__(self):\n",
    "        super(MyModel, self).__init__()\n",
    "        self.layers = nn.ModuleList(layers)\n",
    "        \n",
    "    def forward(self, x):\n",
    "        for layer in self.layers:\n",
    "            x = layer(x)\n",
    "        return x"
   ]
  },
  {
   "cell_type": "code",
   "execution_count": null,
   "metadata": {
    "hidden": true,
    "run_control": {
     "marked": false
    }
   },
   "outputs": [],
   "source": [
    "model = MyModel()\n",
    "model"
   ]
  },
  {
   "cell_type": "markdown",
   "metadata": {
    "heading_collapsed": true
   },
   "source": [
    "#### nn.Sequential"
   ]
  },
  {
   "cell_type": "code",
   "execution_count": null,
   "metadata": {
    "hidden": true,
    "run_control": {
     "marked": false
    }
   },
   "outputs": [],
   "source": [
    "model_seq  = nn.Sequential(\n",
    "    nn.Linear(dim_in, dim_hidden),\n",
    "    nn.ReLU(),\n",
    "    nn.Linear(dim_hidden, dim_out)\n",
    ")"
   ]
  },
  {
   "cell_type": "code",
   "execution_count": null,
   "metadata": {
    "hidden": true,
    "run_control": {
     "marked": false
    }
   },
   "outputs": [],
   "source": [
    "model_seq"
   ]
  },
  {
   "cell_type": "code",
   "execution_count": null,
   "metadata": {
    "hidden": true,
    "run_control": {
     "marked": false
    }
   },
   "outputs": [],
   "source": [
    "model_seq.parameters()"
   ]
  },
  {
   "cell_type": "code",
   "execution_count": null,
   "metadata": {
    "hidden": true,
    "run_control": {
     "marked": false
    }
   },
   "outputs": [],
   "source": [
    "from collections import OrderedDict\n",
    "model = nn.Sequential(OrderedDict([\n",
    "    ('lin1', nn.Linear(dim_in, dim_hidden)),\n",
    "    ('relu', nn.ReLU()),\n",
    "    ('lin2', nn.Linear(dim_hidden, dim_out))\n",
    "]))"
   ]
  },
  {
   "cell_type": "code",
   "execution_count": null,
   "metadata": {
    "hidden": true,
    "run_control": {
     "marked": false
    }
   },
   "outputs": [],
   "source": [
    "model"
   ]
  },
  {
   "cell_type": "markdown",
   "metadata": {
    "heading_collapsed": true
   },
   "source": [
    "### optim\n",
    "\n",
    "* replace the manual optimizer with coded one so to use\n",
    "    `opt.step()`\n",
    "    `opt.zero_grad()`"
   ]
  },
  {
   "cell_type": "code",
   "execution_count": null,
   "metadata": {
    "hidden": true,
    "run_control": {
     "marked": false
    }
   },
   "outputs": [],
   "source": [
    "loss_func = F.cross_entropy\n",
    "\n",
    "batch_size = 5000\n",
    "num_epochs = 30\n",
    "learn_rate = 0.01"
   ]
  },
  {
   "cell_type": "code",
   "execution_count": null,
   "metadata": {
    "hidden": true,
    "run_control": {
     "marked": false
    }
   },
   "outputs": [],
   "source": [
    "class Optimizer():\n",
    "    def __init__(self, model, lr):\n",
    "        self.parameters = model.parameters\n",
    "        self.lr = lr\n",
    "    \n",
    "    def step(self):\n",
    "        for param in self.parameters():\n",
    "            param -= self.lr * param.grad\n",
    "    \n",
    "    def zero_grad(self):\n",
    "        for param in self.parameters():\n",
    "            param.grad.zero_()"
   ]
  },
  {
   "cell_type": "code",
   "execution_count": null,
   "metadata": {
    "hidden": true,
    "run_control": {
     "marked": false
    }
   },
   "outputs": [],
   "source": [
    "optimizer = Optimizer(model_seq, learn_rate)\n",
    "optimizer"
   ]
  },
  {
   "cell_type": "code",
   "execution_count": null,
   "metadata": {
    "hidden": true,
    "run_control": {
     "marked": false
    }
   },
   "outputs": [],
   "source": [
    "def fit(model):\n",
    "    losses = []\n",
    "    for epoch in range(num_epochs):\n",
    "        loss_epoch = 0\n",
    "        for bidx, bstart in enumerate(range(0, num_in, batch_size)):\n",
    "            batch_x = train_x[bstart:bstart+batch_size]\n",
    "            batch_y = train_y[bstart:bstart+batch_size]\n",
    "            outs = model(batch_x)\n",
    "            loss = loss_func(outs, batch_y)\n",
    "            loss.backward()\n",
    "            with torch.no_grad():\n",
    "                optimizer.step()\n",
    "                optimizer.zero_grad()\n",
    "            loss_epoch += loss\n",
    "        losses.append(loss_epoch/bidx)\n",
    "    return losses"
   ]
  },
  {
   "cell_type": "code",
   "execution_count": null,
   "metadata": {
    "hidden": true,
    "run_control": {
     "marked": false
    }
   },
   "outputs": [],
   "source": [
    "losses = fit(model_seq)"
   ]
  },
  {
   "cell_type": "code",
   "execution_count": null,
   "metadata": {
    "hidden": true,
    "run_control": {
     "marked": false
    }
   },
   "outputs": [],
   "source": [
    "plt.plot(range(num_epochs), losses)"
   ]
  },
  {
   "cell_type": "code",
   "execution_count": null,
   "metadata": {
    "hidden": true,
    "run_control": {
     "marked": false
    }
   },
   "outputs": [],
   "source": [
    "from torch import optim\n",
    "optimizer = optim.SGD(model_seq.parameters(), learn_rate)\n",
    "losses = fit(model_seq)\n",
    "plt.plot(range(num_epochs), losses)"
   ]
  },
  {
   "cell_type": "markdown",
   "metadata": {},
   "source": [
    "## Data set and dataLoader"
   ]
  },
  {
   "cell_type": "code",
   "execution_count": 5,
   "metadata": {
    "run_control": {
     "marked": false
    },
    "tags": [
     "#data_load",
     "=>get_mnist"
    ]
   },
   "outputs": [],
   "source": [
    "train_x, train_y, valid_x, valid_y, test_x, test_y = get_mnist()"
   ]
  },
  {
   "cell_type": "code",
   "execution_count": 6,
   "metadata": {
    "run_control": {
     "marked": false
    },
    "tags": [
     "#partial",
     "=>data_load",
     "=>normalize"
    ]
   },
   "outputs": [],
   "source": [
    "from functools import partial\n",
    "norm_by_train = partial(normalize, data_for_stats = train_x)\n",
    "train_x, valid_x, test_x = [norm_by_train(data_to_norm=x) for x in (train_x, valid_x, test_x)]"
   ]
  },
  {
   "cell_type": "code",
   "execution_count": 7,
   "metadata": {
    "run_control": {
     "marked": false
    },
    "tags": [
     "#data_dims",
     "=>data_load"
    ]
   },
   "outputs": [
    {
     "data": {
      "text/plain": [
       "10"
      ]
     },
     "execution_count": 7,
     "metadata": {},
     "output_type": "execute_result"
    }
   ],
   "source": [
    "num_in, dim_in = train_x.shape\n",
    "dim_hidden = 50\n",
    "dim_out = torch.unique(train_y).numel()\n",
    "dim_out"
   ]
  },
  {
   "cell_type": "code",
   "execution_count": 8,
   "metadata": {
    "run_control": {
     "marked": false
    },
    "tags": [
     "#constants"
    ]
   },
   "outputs": [],
   "source": [
    "batch_size = 5000\n",
    "num_epochs = 10\n",
    "learn_rate = 0.01"
   ]
  },
  {
   "cell_type": "code",
   "execution_count": 9,
   "metadata": {
    "run_control": {
     "marked": false
    },
    "tags": [
     "#loss_func"
    ]
   },
   "outputs": [],
   "source": [
    "loss_func = F.cross_entropy"
   ]
  },
  {
   "cell_type": "code",
   "execution_count": 10,
   "metadata": {
    "run_control": {
     "marked": false
    },
    "tags": [
     "#get_model",
     "=>constants",
     "=>data_dims"
    ]
   },
   "outputs": [],
   "source": [
    "from torch import optim\n",
    "def get_model():\n",
    "    model = nn.Sequential(\n",
    "        nn.Linear(dim_in, dim_hidden),\n",
    "        nn.ReLU(),\n",
    "        nn.Linear(dim_hidden, dim_out)\n",
    "    )\n",
    "    optimizer = optim.SGD(model.parameters(), lr=learn_rate)\n",
    "    return model, optimizer"
   ]
  },
  {
   "cell_type": "code",
   "execution_count": 11,
   "metadata": {
    "run_control": {
     "marked": false
    },
    "tags": [
     "#model",
     "=>get_model"
    ]
   },
   "outputs": [],
   "source": [
    "model, optimizer = get_model()"
   ]
  },
  {
   "cell_type": "code",
   "execution_count": null,
   "metadata": {
    "run_control": {
     "marked": false
    }
   },
   "outputs": [],
   "source": [
    "optimizer"
   ]
  },
  {
   "cell_type": "code",
   "execution_count": null,
   "metadata": {
    "run_control": {
     "marked": false
    }
   },
   "outputs": [],
   "source": [
    "get_model.__name__"
   ]
  },
  {
   "cell_type": "markdown",
   "metadata": {
    "heading_collapsed": true
   },
   "source": [
    "### Data set"
   ]
  },
  {
   "cell_type": "code",
   "execution_count": null,
   "metadata": {
    "hidden": true,
    "run_control": {
     "marked": false
    }
   },
   "outputs": [],
   "source": [
    "class DataSet():\n",
    "    def __init__(self, x, y):\n",
    "        self.x, self.y = x, y\n",
    "        \n",
    "    def __len__(self):\n",
    "        return self.x.shape[0]\n",
    "    \n",
    "    def __getitem__(self, key):\n",
    "        return self.x[key], self.y[key]"
   ]
  },
  {
   "cell_type": "code",
   "execution_count": null,
   "metadata": {
    "hidden": true,
    "run_control": {
     "marked": false
    }
   },
   "outputs": [],
   "source": [
    "train_data = DataSet(train_x, train_y)"
   ]
  },
  {
   "cell_type": "code",
   "execution_count": null,
   "metadata": {
    "hidden": true,
    "run_control": {
     "marked": false
    }
   },
   "outputs": [],
   "source": [
    "len(train_data)"
   ]
  },
  {
   "cell_type": "code",
   "execution_count": null,
   "metadata": {
    "hidden": true,
    "run_control": {
     "marked": false
    }
   },
   "outputs": [],
   "source": [
    "train_data[:5]"
   ]
  },
  {
   "cell_type": "code",
   "execution_count": null,
   "metadata": {
    "hidden": true,
    "run_control": {
     "marked": false
    },
    "scrolled": true
   },
   "outputs": [],
   "source": [
    "train_x[:5] - train_data[:5][0]"
   ]
  },
  {
   "cell_type": "code",
   "execution_count": null,
   "metadata": {
    "hidden": true,
    "run_control": {
     "marked": false
    }
   },
   "outputs": [],
   "source": [
    "train_y[:5] - train_data[:5][1]"
   ]
  },
  {
   "cell_type": "markdown",
   "metadata": {
    "heading_collapsed": true
   },
   "source": [
    "### DataLoader"
   ]
  },
  {
   "cell_type": "code",
   "execution_count": null,
   "metadata": {
    "hidden": true,
    "run_control": {
     "marked": false
    }
   },
   "outputs": [],
   "source": [
    "class DataLoader():\n",
    "    def __init__(self, dataset, batchsize):\n",
    "        self.dataset = dataset\n",
    "        self.batchsize = batchsize\n",
    "        self.size = len(dataset)\n",
    "    \n",
    "    def __iter__(self):\n",
    "        for bstart in range(0, self.size, self.batchsize):\n",
    "            yield self.dataset[bstart:bstart+self.batchsize]"
   ]
  },
  {
   "cell_type": "code",
   "execution_count": null,
   "metadata": {
    "hidden": true,
    "run_control": {
     "marked": false
    }
   },
   "outputs": [],
   "source": [
    "dataloader = DataLoader(train_data, 5000)"
   ]
  },
  {
   "cell_type": "code",
   "execution_count": null,
   "metadata": {
    "hidden": true,
    "run_control": {
     "marked": false
    }
   },
   "outputs": [],
   "source": [
    "def get_model():\n",
    "    model = nn.Sequential(\n",
    "        nn.Linear(dim_in, dim_hidden),\n",
    "        nn.ReLU(),\n",
    "        nn.Linear(dim_hidden, dim_out)\n",
    "    )\n",
    "    optimizer = optim.SGD(model.parameters(), lr=learn_rate)\n",
    "    return model, optimizer\n",
    "\n",
    "model, optimizer=get_model()"
   ]
  },
  {
   "cell_type": "code",
   "execution_count": null,
   "metadata": {
    "hidden": true,
    "run_control": {
     "marked": false
    }
   },
   "outputs": [],
   "source": [
    "def fit():\n",
    "    losses = []\n",
    "    for epoch in range(num_epochs):\n",
    "        loss_epoch = torch.zeros((1))\n",
    "        for bidx, (batch_x, batch_y) in enumerate(dataloader):\n",
    "            outs = model(batch_x)\n",
    "            loss = loss_func(outs, batch_y)\n",
    "            loss.backward()\n",
    "            optimizer.step()\n",
    "            optimizer.zero_grad()\n",
    "            loss_epoch += loss\n",
    "        losses.append(loss_epoch / bidx)\n",
    "    return losses"
   ]
  },
  {
   "cell_type": "code",
   "execution_count": null,
   "metadata": {
    "hidden": true,
    "run_control": {
     "marked": false
    }
   },
   "outputs": [],
   "source": [
    "import matplotlib.pyplot as plt\n",
    "losses = fit()\n",
    "plt.plot(losses)"
   ]
  },
  {
   "cell_type": "markdown",
   "metadata": {
    "heading_collapsed": true
   },
   "source": [
    "### Random sampling"
   ]
  },
  {
   "cell_type": "code",
   "execution_count": null,
   "metadata": {
    "hidden": true,
    "run_control": {
     "marked": false
    }
   },
   "outputs": [],
   "source": [
    "class Shuffler():\n",
    "    def __init__(self, ds, bs, shuffle=True):\n",
    "        self.ds_len = len(ds)\n",
    "        self.bs = bs\n",
    "        self.idx = torch.randperm(self.ds_len) if shuffle else torch.arange(self.ds_len)\n",
    "    \n",
    "    def __iter__(self):\n",
    "        for i in range(0, self.ds_len, self.bs):\n",
    "            yield self.idx[i:i+self.bs]"
   ]
  },
  {
   "cell_type": "code",
   "execution_count": null,
   "metadata": {
    "hidden": true,
    "run_control": {
     "marked": false
    }
   },
   "outputs": [],
   "source": [
    "class DataLoader():\n",
    "    def __init__(self, ds, bs, shuffle=True):\n",
    "        self.ds = ds\n",
    "        self.shuffler = iter(Shuffler(ds, bs, shuffle))\n",
    "        \n",
    "    def __next__(self):\n",
    "        idx = next(self.shuffler)\n",
    "        return self.ds[idx]"
   ]
  },
  {
   "cell_type": "code",
   "execution_count": null,
   "metadata": {
    "hidden": true,
    "run_control": {
     "marked": false
    }
   },
   "outputs": [],
   "source": [
    "data_loader = DataLoader(train_data, 9)"
   ]
  },
  {
   "cell_type": "code",
   "execution_count": null,
   "metadata": {
    "hidden": true,
    "run_control": {
     "marked": false
    }
   },
   "outputs": [],
   "source": [
    "batch = next(data_loader)\n",
    "imgs_tmp = batch[0].view(3, 3, 28, -1).permute(0,2,1,3)\n",
    "plt.imshow(imgs_tmp.reshape(3*28, 3*28), cmap='gray')\n",
    "plt.axis('off');"
   ]
  },
  {
   "cell_type": "markdown",
   "metadata": {},
   "source": [
    "### Pytorch DataLoader"
   ]
  },
  {
   "cell_type": "code",
   "execution_count": 12,
   "metadata": {
    "run_control": {
     "marked": false
    },
    "tags": [
     "#import_torch"
    ]
   },
   "outputs": [],
   "source": [
    "from torch.utils.data import TensorDataset, DataLoader, Sampler"
   ]
  },
  {
   "cell_type": "code",
   "execution_count": 13,
   "metadata": {
    "run_control": {
     "marked": false
    },
    "tags": [
     "#train_data",
     "=>import_torch",
     "=>partial"
    ]
   },
   "outputs": [],
   "source": [
    "train_data = TensorDataset(train_x, train_y)"
   ]
  },
  {
   "cell_type": "code",
   "execution_count": 29,
   "metadata": {
    "run_control": {
     "marked": false
    },
    "tags": [
     "#train_loader",
     "=>train_data"
    ]
   },
   "outputs": [],
   "source": [
    "train_loader = DataLoader(train_data, batch_size = 5000, shuffle=True)"
   ]
  },
  {
   "cell_type": "code",
   "execution_count": null,
   "metadata": {
    "run_control": {
     "marked": false
    }
   },
   "outputs": [],
   "source": [
    "for i, batch in enumerate(train_loader):\n",
    "    imgs_tmp = batch[0].view(3, 3, 28, -1).permute(0,2,1,3)\n",
    "    plt.imshow(imgs_tmp.reshape(3*28, 3*28), cmap='gray')\n",
    "    plt.axis('off');\n",
    "    if i==1:\n",
    "        break"
   ]
  },
  {
   "cell_type": "code",
   "execution_count": null,
   "metadata": {
    "run_control": {
     "marked": false
    }
   },
   "outputs": [],
   "source": [
    "train_iter = iter(train_loader)"
   ]
  },
  {
   "cell_type": "code",
   "execution_count": null,
   "metadata": {
    "run_control": {
     "marked": false
    }
   },
   "outputs": [],
   "source": [
    "batch = next(train_iter)\n",
    "imgs_tmp = batch[0].view(3, 3, 28, -1).permute(0,2,1,3)\n",
    "plt.imshow(imgs_tmp.reshape(3*28, 3*28), cmap='gray')\n",
    "plt.axis('off');"
   ]
  },
  {
   "cell_type": "markdown",
   "metadata": {},
   "source": [
    "### Validation"
   ]
  },
  {
   "cell_type": "code",
   "execution_count": 15,
   "metadata": {
    "run_control": {
     "marked": false
    },
    "tags": [
     "#valid_data",
     "=>import_torch"
    ]
   },
   "outputs": [],
   "source": [
    "valid_data = TensorDataset(valid_x, valid_y)\n",
    "valid_loader = DataLoader(valid_data, batch_size=len(valid_data), shuffle=False)"
   ]
  },
  {
   "cell_type": "code",
   "execution_count": 49,
   "metadata": {
    "run_control": {
     "marked": false
    },
    "tags": [
     "#get_accuracy"
    ]
   },
   "outputs": [],
   "source": [
    "#export\n",
    "def get_accuracy(logits, targets):\n",
    "    preds = logits.argmax(1)\n",
    "    return (preds==targets).float().mean()"
   ]
  },
  {
   "cell_type": "code",
   "execution_count": 35,
   "metadata": {
    "run_control": {
     "marked": false
    },
    "tags": [
     "#fit",
     "=>model",
     "=>train_loader",
     "=>valid_data",
     "=>get_accuracy",
     "=>loss_func"
    ]
   },
   "outputs": [],
   "source": [
    "def fit():\n",
    "    train_losses = []\n",
    "    valid_losses = []\n",
    "    valid_accuracy = []\n",
    "    for epoch in range(num_epochs):\n",
    "        model.train()\n",
    "        losses = 0.\n",
    "        for bidx, (batch_x, batch_y) in enumerate(train_loader):\n",
    "            logits = model(batch_x)\n",
    "            loss = loss_func(logits, batch_y)\n",
    "            loss.backward()\n",
    "            optimizer.step()\n",
    "            optimizer.zero_grad()\n",
    "            losses += loss.item()\n",
    "        train_losses.append(losses/ (bidx+1.))\n",
    "        print(epoch, train_losses)\n",
    "        model.eval()\n",
    "        with torch.no_grad():\n",
    "            losses = 0.\n",
    "            accuracies = 0.\n",
    "            for bidx, (batch_x, batch_y) in enumerate(valid_loader):\n",
    "                logits = model(batch_x)\n",
    "                loss = loss_func(logits, batch_y)\n",
    "                accuracy = get_accuracy(logits, batch_y)\n",
    "                losses += loss.item()\n",
    "                accuracies += accuracy.item()\n",
    "            valid_losses.append(losses/(bidx+1.))\n",
    "            valid_accuracy.append(accuracies/(bidx+1.))\n",
    "    return train_losses, valid_losses, valid_accuracy"
   ]
  },
  {
   "cell_type": "code",
   "execution_count": 36,
   "metadata": {
    "run_control": {
     "marked": false
    }
   },
   "outputs": [
    {
     "name": "stdout",
     "output_type": "stream",
     "text": [
      "0 [0.09519079998135567]\n",
      "1 [0.09519079998135567, 0.09422180503606796]\n",
      "2 [0.09519079998135567, 0.09422180503606796, 0.09350590482354164]\n",
      "3 [0.09519079998135567, 0.09422180503606796, 0.09350590482354164, 0.09294303432106972]\n",
      "4 [0.09519079998135567, 0.09422180503606796, 0.09350590482354164, 0.09294303432106972, 0.0924816906452179]\n",
      "5 [0.09519079998135567, 0.09422180503606796, 0.09350590482354164, 0.09294303432106972, 0.0924816906452179, 0.0920834295451641]\n",
      "6 [0.09519079998135567, 0.09422180503606796, 0.09350590482354164, 0.09294303432106972, 0.0924816906452179, 0.0920834295451641, 0.09174149855971336]\n",
      "7 [0.09519079998135567, 0.09422180503606796, 0.09350590482354164, 0.09294303432106972, 0.0924816906452179, 0.0920834295451641, 0.09174149855971336, 0.09142805188894272]\n",
      "8 [0.09519079998135567, 0.09422180503606796, 0.09350590482354164, 0.09294303432106972, 0.0924816906452179, 0.0920834295451641, 0.09174149855971336, 0.09142805188894272, 0.09114948958158493]\n",
      "9 [0.09519079998135567, 0.09422180503606796, 0.09350590482354164, 0.09294303432106972, 0.0924816906452179, 0.0920834295451641, 0.09174149855971336, 0.09142805188894272, 0.09114948958158493, 0.09088104292750358]\n"
     ]
    }
   ],
   "source": [
    "train_losses, valid_losses, valid_accuracy = fit()"
   ]
  },
  {
   "cell_type": "code",
   "execution_count": 43,
   "metadata": {
    "run_control": {
     "marked": false
    }
   },
   "outputs": [
    {
     "data": {
      "image/png": "[encoded data removed]",
      "text/plain": [
       "<Figure size 432x288 with 1 Axes>"
      ]
     },
     "metadata": {
      "needs_background": "light"
     },
     "output_type": "display_data"
    }
   ],
   "source": [
    "import matplotlib.pyplot as plt\n",
    "plt.plot(train_losses, label='train')\n",
    "plt.plot(valid_losses, label='valid')\n",
    "plt.legend();"
   ]
  },
  {
   "cell_type": "code",
   "execution_count": 46,
   "metadata": {},
   "outputs": [
    {
     "data": {
      "text/plain": [
       "[<matplotlib.lines.Line2D at 0x7f05a6280190>]"
      ]
     },
     "execution_count": 46,
     "metadata": {},
     "output_type": "execute_result"
    },
    {
     "data": {
      "image/png": "[encoded data removed]",
      "text/plain": [
       "<Figure size 432x288 with 1 Axes>"
      ]
     },
     "metadata": {
      "needs_background": "light"
     },
     "output_type": "display_data"
    }
   ],
   "source": [
    "plt.plot(valid_accuracy)"
   ]
  },
  {
   "cell_type": "code",
   "execution_count": 50,
   "metadata": {},
   "outputs": [
    {
     "name": "stdout",
     "output_type": "stream",
     "text": [
      "Converted 03Magda_minibatch.ipynb to exp/nb_03Magda.py\r\n"
     ]
    }
   ],
   "source": [
    "!python notebook2script.py 03Magda_minibatch.ipynb"
   ]
  }
 ],
 "metadata": {
  "kernelspec": {
   "display_name": "Python 3",
   "language": "python",
   "name": "python3"
  },
  "language_info": {
   "codemirror_mode": {
    "name": "ipython",
    "version": 3
   },
   "file_extension": ".py",
   "mimetype": "text/x-python",
   "name": "python",
   "nbconvert_exporter": "python",
   "pygments_lexer": "ipython3",
   "version": "3.7.7"
  }
 },
 "nbformat": 4,
 "nbformat_minor": 4
}
