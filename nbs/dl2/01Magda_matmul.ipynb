{
 "cells": [
  {
   "cell_type": "markdown",
   "metadata": {},
   "source": [
    "# Magda's exercise for class 8 - matmul"
   ]
  },
  {
   "cell_type": "markdown",
   "metadata": {},
   "source": [
    "## Basic imports\n",
    "\n",
    "can use `math, torch, gzip, pickle, fastai.datasets, pathlib, matplotlib`"
   ]
  },
  {
   "cell_type": "code",
   "execution_count": 1,
   "metadata": {},
   "outputs": [],
   "source": [
    "%matplotlib inline\n",
    "\n",
    "%load_ext autoreload\n",
    "%autoreload 2"
   ]
  },
  {
   "cell_type": "code",
   "execution_count": 101,
   "metadata": {},
   "outputs": [],
   "source": [
    "#export\n",
    "import gzip\n",
    "from pathlib import Path\n",
    "import torch\n",
    "import pickle\n",
    "import matplotlib as mpl\n",
    "import matplotlib.pyplot as plt"
   ]
  },
  {
   "cell_type": "markdown",
   "metadata": {},
   "source": [
    "## Get data\n",
    "\n",
    "* Get MNIST pkl data\n",
    "* Can use fastai datasets"
   ]
  },
  {
   "cell_type": "code",
   "execution_count": 3,
   "metadata": {},
   "outputs": [],
   "source": [
    "data_path = Path('/home/magda/datasets/mnist')\n",
    "data_gzip = data_path/'mnist.pkl.gz'"
   ]
  },
  {
   "cell_type": "code",
   "execution_count": 4,
   "metadata": {},
   "outputs": [],
   "source": [
    "with gzip.open(data_gzip, 'rb') as data_file:\n",
    "    (train_x, train_y), (valid_x, valid_y), _ = pickle.load(data_file, encoding='latin-1')"
   ]
  },
  {
   "cell_type": "code",
   "execution_count": 5,
   "metadata": {},
   "outputs": [
    {
     "data": {
      "text/plain": [
       "((50000, 784), (50000,), (10000, 784), (10000,))"
      ]
     },
     "execution_count": 5,
     "metadata": {},
     "output_type": "execute_result"
    }
   ],
   "source": [
    "train_x.shape, train_y.shape, valid_x.shape, valid_y.shape"
   ]
  },
  {
   "cell_type": "markdown",
   "metadata": {},
   "source": [
    "Make data pytorch tensors"
   ]
  },
  {
   "cell_type": "code",
   "execution_count": 6,
   "metadata": {},
   "outputs": [],
   "source": [
    "(train_x, train_y, valid_x, valid_y) = [torch.tensor(x) for x in (train_x, train_y, valid_x, valid_y)]"
   ]
  },
  {
   "cell_type": "code",
   "execution_count": 7,
   "metadata": {},
   "outputs": [
    {
     "data": {
      "text/plain": [
       "torch.Size([50000, 784])"
      ]
     },
     "execution_count": 7,
     "metadata": {},
     "output_type": "execute_result"
    }
   ],
   "source": [
    "train_x.shape"
   ]
  },
  {
   "cell_type": "markdown",
   "metadata": {},
   "source": [
    "**Plot an example**"
   ]
  },
  {
   "cell_type": "code",
   "execution_count": 8,
   "metadata": {},
   "outputs": [
    {
     "data": {
      "text/plain": [
       "'viridis'"
      ]
     },
     "execution_count": 8,
     "metadata": {},
     "output_type": "execute_result"
    }
   ],
   "source": [
    "mpl.rcParams['image.cmap']"
   ]
  },
  {
   "cell_type": "code",
   "execution_count": 9,
   "metadata": {},
   "outputs": [],
   "source": [
    "img = train_x[0].view(28, -1)"
   ]
  },
  {
   "cell_type": "code",
   "execution_count": 10,
   "metadata": {},
   "outputs": [
    {
     "data": {
      "text/plain": [
       "<matplotlib.image.AxesImage at 0x7f790df86150>"
      ]
     },
     "execution_count": 10,
     "metadata": {},
     "output_type": "execute_result"
    },
    {
     "data": {
      "image/png": "[encoded data removed]",
      "text/plain": [
       "<Figure size 432x288 with 1 Axes>"
      ]
     },
     "metadata": {
      "needs_background": "light"
     },
     "output_type": "display_data"
    }
   ],
   "source": [
    "plt.imshow(img, cmap='gray')"
   ]
  },
  {
   "cell_type": "markdown",
   "metadata": {},
   "source": [
    "**Plot multiple images**"
   ]
  },
  {
   "cell_type": "code",
   "execution_count": 11,
   "metadata": {},
   "outputs": [
    {
     "data": {
      "text/plain": [
       "torch.Size([9, 784])"
      ]
     },
     "execution_count": 11,
     "metadata": {},
     "output_type": "execute_result"
    }
   ],
   "source": [
    "idxs = torch.multinomial(torch.arange(train_x.shape[0], dtype=float), 9)\n",
    "imgs = train_x[idxs]\n",
    "imgs.shape"
   ]
  },
  {
   "cell_type": "code",
   "execution_count": 12,
   "metadata": {},
   "outputs": [
    {
     "data": {
      "image/png": "[encoded data removed]",
      "text/plain": [
       "<Figure size 432x288 with 9 Axes>"
      ]
     },
     "metadata": {
      "needs_background": "light"
     },
     "output_type": "display_data"
    }
   ],
   "source": [
    "default_cmap = mpl.rcParams['image.cmap']\n",
    "mpl.rcParams['image.cmap'] = 'gray'\n",
    "fig, axs = plt.subplots(3,3)\n",
    "for i, img in enumerate(imgs):\n",
    "    row = i // 3\n",
    "    col = i % 3\n",
    "    axs[row, col].imshow(img.view(28,-1))\n",
    "    axs[row, col].axis('off')"
   ]
  },
  {
   "cell_type": "code",
   "execution_count": 15,
   "metadata": {},
   "outputs": [
    {
     "data": {
      "image/png": "[encoded data removed]",
      "text/plain": [
       "<Figure size 432x288 with 1 Axes>"
      ]
     },
     "metadata": {
      "needs_background": "light"
     },
     "output_type": "display_data"
    }
   ],
   "source": [
    "imgs_tmp = imgs.view(3, 3, 28, -1).permute(0,2,1,3)\n",
    "plt.imshow(imgs_tmp.reshape(3*28, 3*28))\n",
    "plt.axis('off');"
   ]
  },
  {
   "cell_type": "markdown",
   "metadata": {},
   "source": [
    "## Initial python model\n",
    "\n",
    "random weights and bias"
   ]
  },
  {
   "cell_type": "code",
   "execution_count": 88,
   "metadata": {},
   "outputs": [],
   "source": [
    "#export\n",
    "def test_equal(a, b):\n",
    "    assert torch.equal(a,b), f'{a} and {b} are not equal'\n",
    "\n",
    "def test_near(a, b, rtol=1e-5, atol=1e-08):\n",
    "    assert torch.allclose(a, b, rtol, atol), f'{a} and {b} are not near'"
   ]
  },
  {
   "cell_type": "code",
   "execution_count": 14,
   "metadata": {},
   "outputs": [
    {
     "data": {
      "text/plain": [
       "(tensor([[ 0.9948,  0.4246, -0.6861,  ..., -0.5676,  0.7435, -0.6193],\n",
       "         [-1.2735, -1.2490, -0.3699,  ...,  0.1722,  0.7098, -1.3385],\n",
       "         [-1.1258, -2.7229,  0.2505,  ..., -2.3556, -2.0131, -1.4079],\n",
       "         ...,\n",
       "         [-0.0960,  0.3707,  0.8756,  ...,  0.5531, -0.4226, -1.2615],\n",
       "         [ 1.3133,  0.3286, -0.6915,  ..., -1.5479,  0.2563,  0.4037],\n",
       "         [ 1.1647,  0.8215,  0.2471,  ..., -1.4835, -0.0396,  2.0746]]),\n",
       " tensor([0., 0., 0., 0., 0., 0., 0., 0., 0., 0.]))"
      ]
     },
     "execution_count": 14,
     "metadata": {},
     "output_type": "execute_result"
    }
   ],
   "source": [
    "in_num, in_dim = train_x.shape\n",
    "out_dim = 10\n",
    "weights = torch.normal(0, 1, (in_dim, out_dim))\n",
    "bias = torch.zeros(10)\n",
    "weights, bias"
   ]
  },
  {
   "cell_type": "markdown",
   "metadata": {},
   "source": [
    "**matmul 3 loops**"
   ]
  },
  {
   "cell_type": "code",
   "execution_count": 92,
   "metadata": {},
   "outputs": [],
   "source": [
    "def matmul(a, b):\n",
    "    ra, ca = a.shape\n",
    "    rb, cb = b.shape\n",
    "    assert ca==rb, f'incompatible shapes, cols a = {ca}, rows b = {rb}'\n",
    "    out = torch.zeros((ra, cb), dtype=torch.float)\n",
    "    for i in range(ra):\n",
    "        for j in range(cb):\n",
    "            for k in range(ca):\n",
    "                out[i, j] += a[i, k] * b[k, j]\n",
    "    return out"
   ]
  },
  {
   "cell_type": "code",
   "execution_count": 28,
   "metadata": {},
   "outputs": [
    {
     "data": {
      "text/plain": [
       "tensor([[0.9620, 1.6104, 1.7631, 1.3487, 1.1272, 1.7076],\n",
       "        [0.7491, 1.3150, 1.1363, 1.0579, 0.9332, 1.1417],\n",
       "        [1.0063, 1.8299, 1.9527, 1.3530, 1.1959, 1.5620]])"
      ]
     },
     "execution_count": 28,
     "metadata": {},
     "output_type": "execute_result"
    }
   ],
   "source": [
    "a = torch.rand(3,5)\n",
    "b = torch.rand(5,6)"
   ]
  },
  {
   "cell_type": "code",
   "execution_count": 93,
   "metadata": {},
   "outputs": [
    {
     "name": "stdout",
     "output_type": "stream",
     "text": [
      "1.56 ms ± 15 µs per loop (mean ± std. dev. of 7 runs, 1000 loops each)\n"
     ]
    }
   ],
   "source": [
    "test_near(a@b, matmul(a,b), 1e-6)\n",
    "%timeit matmul(a,b)"
   ]
  },
  {
   "cell_type": "markdown",
   "metadata": {},
   "source": [
    "**matmul 2 loops**"
   ]
  },
  {
   "cell_type": "code",
   "execution_count": 94,
   "metadata": {},
   "outputs": [],
   "source": [
    "def matmul(a, b):\n",
    "    ra, ca = a.shape\n",
    "    rb, cb = b.shape\n",
    "    assert ca==rb, f'incompatible shapes, cols a = {ca}, rows b = {rb}'\n",
    "    out = torch.zeros((ra, cb), dtype=torch.float)\n",
    "    for i in range(ra):\n",
    "        for j in range(cb):\n",
    "            out[i, j] = (a[i,:] * b[:,j]).sum()\n",
    "    return out    "
   ]
  },
  {
   "cell_type": "code",
   "execution_count": 95,
   "metadata": {},
   "outputs": [
    {
     "name": "stdout",
     "output_type": "stream",
     "text": [
      "308 µs ± 4.37 µs per loop (mean ± std. dev. of 7 runs, 1000 loops each)\n"
     ]
    }
   ],
   "source": [
    "test_near(a@b, matmul(a,b), 1e-6)\n",
    "%timeit matmul(a,b)"
   ]
  },
  {
   "cell_type": "markdown",
   "metadata": {},
   "source": [
    "**matmul 1 loop**"
   ]
  },
  {
   "cell_type": "code",
   "execution_count": 96,
   "metadata": {},
   "outputs": [],
   "source": [
    "def matmul(a, b):\n",
    "    ra, ca = a.shape\n",
    "    rb, cb = b.shape\n",
    "    assert ca==rb, f'incompatible shapes, cols a = {ca}, rows b = {rb}'\n",
    "    out = torch.zeros((ra, cb), dtype=torch.float)\n",
    "    for i in range(ra):\n",
    "        out[i, :] = (a[i][:,None] * b).sum(dim=0)\n",
    "    return out    "
   ]
  },
  {
   "cell_type": "code",
   "execution_count": 97,
   "metadata": {},
   "outputs": [
    {
     "name": "stdout",
     "output_type": "stream",
     "text": [
      "62.7 µs ± 431 ns per loop (mean ± std. dev. of 7 runs, 10000 loops each)\n"
     ]
    }
   ],
   "source": [
    "test_near(a@b, matmul(a,b), 1e-6)\n",
    "%timeit matmul(a,b)"
   ]
  },
  {
   "cell_type": "markdown",
   "metadata": {},
   "source": [
    "## Export"
   ]
  },
  {
   "cell_type": "code",
   "execution_count": 104,
   "metadata": {},
   "outputs": [
    {
     "name": "stdout",
     "output_type": "stream",
     "text": [
      "Converted 01Magda_matmul.ipynb to exp/nb_01Magda.py\r\n"
     ]
    }
   ],
   "source": [
    "!python notebook2script.py 01Magda_matmul.ipynb"
   ]
  }
 ],
 "metadata": {
  "kernelspec": {
   "display_name": "Python 3",
   "language": "python",
   "name": "python3"
  },
  "language_info": {
   "codemirror_mode": {
    "name": "ipython",
    "version": 3
   },
   "file_extension": ".py",
   "mimetype": "text/x-python",
   "name": "python",
   "nbconvert_exporter": "python",
   "pygments_lexer": "ipython3",
   "version": "3.7.7"
  }
 },
 "nbformat": 4,
 "nbformat_minor": 4
}
