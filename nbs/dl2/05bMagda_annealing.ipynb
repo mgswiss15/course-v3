{
 "cells": [
  {
   "cell_type": "code",
   "execution_count": 1,
   "metadata": {},
   "outputs": [],
   "source": [
    "%matplotlib inline\n",
    "%load_ext autoreload\n",
    "%autoreload 2"
   ]
  },
  {
   "cell_type": "code",
   "execution_count": 2,
   "metadata": {},
   "outputs": [],
   "source": [
    "from exp.nb_03Magda import *\n",
    "from exp.nb_04Magda_corrected import *"
   ]
  },
  {
   "cell_type": "markdown",
   "metadata": {},
   "source": [
    "## Get data"
   ]
  },
  {
   "cell_type": "code",
   "execution_count": 3,
   "metadata": {},
   "outputs": [],
   "source": [
    "train_x, train_y, valid_x, valid_y, test_x, test_y = get_mnist()"
   ]
  },
  {
   "cell_type": "code",
   "execution_count": 4,
   "metadata": {},
   "outputs": [],
   "source": [
    "norm = lambda x: normalize(train_x, x)\n",
    "train_x, valid_x, test_x = [norm(x) for x in (train_x, valid_x, test_x)]"
   ]
  },
  {
   "cell_type": "code",
   "execution_count": 5,
   "metadata": {},
   "outputs": [],
   "source": [
    "mnist_bunch = DataBunch(train_x, train_y, valid_x, valid_y, 5000)"
   ]
  },
  {
   "cell_type": "markdown",
   "metadata": {},
   "source": [
    "## Get learner and callbacks"
   ]
  },
  {
   "cell_type": "code",
   "execution_count": 6,
   "metadata": {
    "run_control": {
     "marked": false
    }
   },
   "outputs": [],
   "source": [
    "#export\n",
    "class Callback():\n",
    "    \"Base class for callbacks\"\n",
    "    def init_learner(self, learner):\n",
    "        self.learner = learner\n",
    "    \n",
    "    def class_name(self):\n",
    "        return self.__class__.__name__.lower()\n",
    "\n",
    "class AccuracyCallback(Callback):\n",
    "    \"Callback calculating validation accuracy\"\n",
    "    def fit_begin(self, *args):\n",
    "        self.learner.metrics['val_accuracies'] = []\n",
    "\n",
    "    def validation_batch_end(self, logits, *args, **kwargs):\n",
    "        preds = logits.argmax(1)\n",
    "        targets = self.learner.batch_y\n",
    "        self.num_correct = (preds==targets).float().sum()\n",
    "        self.num_total = len(logits)\n",
    "        accuracy = self.num_correct / self.num_total\n",
    "        self.learner.metrics['val_accuracies'].append(accuracy.item())\n",
    "\n",
    "    def fit_end(self, *args):\n",
    "        accuracies = self.learner.metrics['val_accuracies']\n",
    "        print(f'Final accuracy: {accuracies[-1]:4.6f}')\n",
    "\n",
    "class LossCallback(Callback):\n",
    "    \"Callback calculating train and validation losses\"\n",
    "    def fit_begin(self, *args):\n",
    "        self.learner.metrics['train_losses'] = []\n",
    "        self.learner.metrics['valid_losses'] = []\n",
    "\n",
    "    def train_batch_end(self, loss, *args, **kwargs):\n",
    "        self.learner.metrics['train_losses'].append(loss.item())\n",
    "\n",
    "    def validation_batch_end(self, logits, loss, *args, **kwargs):\n",
    "        self.learner.metrics['valid_losses'].append(loss.item())\n",
    "\n",
    "    def epoch_end(self, *args):\n",
    "        print('train: ', self.learner.metrics['train_losses'][-1],\n",
    "              'validation: ', self.learner.metrics['valid_losses'][-1])\n",
    "\n",
    "import matplotlib.pyplot as plt\n",
    "class PlotsCallback(Callback):\n",
    "    \"Callback adding plotting methods to learner\"\n",
    "    def fit_begin(self, *args):\n",
    "        self.learner.plot_train_loss = self._plot_train_loss\n",
    "        self.learner.plot_validation_loss = self._plot_validation_loss\n",
    "        self.learner.plot_accuracy = self._plot_accuracy\n",
    "        self.learner.plot_lr = self._plot_lr\n",
    "\n",
    "    def _plot_train_loss(self):\n",
    "        assert 'train_losses' in self.learner.metrics, 'Losses have not been recorded during training'\n",
    "        fig, ax = plt.subplots()\n",
    "        ax.plot(self.learner.metrics['train_losses'], label='train')\n",
    "        ax.set_title('Train loss')\n",
    "        ax.set_xlabel('Iteration')\n",
    "        ax.set_ylabel('Cross_entropy')\n",
    "\n",
    "    def _plot_validation_loss(self):\n",
    "        assert 'valid_losses' in self.learner.metrics, 'Losses have not been recorded during training'\n",
    "        fig, ax = plt.subplots()\n",
    "        ax.plot(self.learner.metrics['valid_losses'], label='valid')\n",
    "        ax.set_title('Validation loss')\n",
    "        ax.set_xlabel('Iteration')\n",
    "        ax.set_ylabel('Cross_entropy')\n",
    "\n",
    "    def _plot_accuracy(self):\n",
    "        assert 'val_accuracies' in self.learner.metrics, 'Accuracy has not been recorded during training'\n",
    "        fig, ax = plt.subplots()\n",
    "        ax.plot(self.learner.metrics['val_accuracies'])\n",
    "        ax.set_title('Validation accuracy')\n",
    "        ax.set_xlabel('Iteration')\n",
    "        ax.set_ylabel('Accuracy (%)')        \n",
    "    \n",
    "    def _plot_lr(self):\n",
    "        assert 'lr' in self.learner.metrics, 'Learning rate has not been recorded during training'\n",
    "        fig, ax = plt.subplots()\n",
    "        ax.plot(self.learner.metrics['lr'])\n",
    "        ax.set_title('Learning rates')\n",
    "        ax.set_xlabel('Iteration')\n",
    "        ax.set_ylabel('lr')     \n",
    "\n",
    "class EarlyStopping(Exception):\n",
    "    pass\n",
    "\n",
    "class EarlyStoppingCallback(Callback):\n",
    "    def epoch_end(self):\n",
    "        last_accuracy = self.learner.metrics.get('val_accuracies',[0])[-1]\n",
    "        print(self.learner.epoch, 'last accuracy: ', last_accuracy)\n",
    "        if last_accuracy > 0.9:\n",
    "            raise EarlyStopping(f'Accuracy above 90\\%, stopping after epoch {self.learner.epoch}.')"
   ]
  },
  {
   "cell_type": "code",
   "execution_count": 7,
   "metadata": {},
   "outputs": [],
   "source": [
    "#export\n",
    "import torch\n",
    "from torch import optim\n",
    "import torch.nn as nn\n",
    "import torch.nn.functional as F\n",
    "from exp.nb_04Magda_corrected import *\n",
    "class Learner():\n",
    "    def __init__(self, data_bunch, callback_list=[]):\n",
    "        assert isinstance(data_bunch, DataBunch), 'First paramtere should be a DataBunch'\n",
    "        assert isinstance(callback_list, list), 'Second paramters should be a LIST (of callbacks)'\n",
    "        self.data_bunch = data_bunch\n",
    "        self.classes = len((self.data_bunch.train_data[:][1]).unique())\n",
    "        self._get_model(num_out=self.classes)\n",
    "        self._get_optimizer()\n",
    "        self._loss_func()\n",
    "        self.callback_list = callback_list + [PlotsCallback()]\n",
    "        for cb in self.callback_list:\n",
    "            cb.init_learner(self)\n",
    "        self.epoch = 0\n",
    "        self.batch_x = None\n",
    "        self.batch_y = None\n",
    "        self.metrics = {}\n",
    "\n",
    "\n",
    "    def _get_model(self, num_hidden=50, num_out=10):\n",
    "        num_in = self.data_bunch.train_data[:][0].size(1)\n",
    "        self.model = nn.Sequential(nn.Linear(num_in, num_hidden), nn.ReLU(), nn.Linear(num_hidden, num_out))\n",
    "\n",
    "    def _get_optimizer(self, lr=0.5):\n",
    "        self.optimizer = optim.SGD(self.model.parameters(), lr=lr)\n",
    "\n",
    "    def _loss_func(self):\n",
    "        self.loss_func = F.cross_entropy\n",
    "\n",
    "    def forward(self, bx, by):\n",
    "        logits = self.model(bx)\n",
    "        loss = self.loss_func(logits, by)\n",
    "        return logits, loss\n",
    "\n",
    "    def backward(self, loss):\n",
    "        loss.backward()\n",
    "        self.callback('before_optim_step')\n",
    "        self.optimizer.step()\n",
    "        self.optimizer.zero_grad()\n",
    "\n",
    "    def fit(self, epochs):\n",
    "        assert isinstance(epochs, int), 'Number of epochs should be INT'\n",
    "        self.total_epochs = epochs\n",
    "        self.callback('fit_begin')\n",
    "        for self.epoch in range(epochs):\n",
    "            try:\n",
    "                self.model.train()\n",
    "                self.callback('train_begin')\n",
    "                for (self.batch_x, self.batch_y) in self.data_bunch.train_dl:\n",
    "                    self.callback('train_batch_begin')\n",
    "                    logits, loss = self.forward(self.batch_x, self.batch_y)\n",
    "                    self.backward(loss)\n",
    "                    self.callback('train_batch_end', loss)\n",
    "                self.model.eval()\n",
    "                with torch.no_grad():\n",
    "                    self.callback('validation_begin')\n",
    "                    for (self.batch_x, self.batch_y) in self.data_bunch.valid_dl:\n",
    "                        self.callback('validation_batch_begin')\n",
    "                        logits, loss = self.forward(self.batch_x, self.batch_y)\n",
    "                        self.callback('validation_batch_end', logits, loss)\n",
    "                self.callback('epoch_end')\n",
    "            except EarlyStopping:\n",
    "                print(self.epoch, 'stopping ... ')\n",
    "                break\n",
    "        self.callback('fit_end')\n",
    "\n",
    "    def callback(self, cb_name, *args, **kwargs):\n",
    "        for cb in self.callback_list:\n",
    "            cb_method = getattr(cb, cb_name, None)\n",
    "            if cb_method:\n",
    "                cb_method(*args, **kwargs)"
   ]
  },
  {
   "cell_type": "code",
   "execution_count": 8,
   "metadata": {
    "scrolled": true
   },
   "outputs": [],
   "source": [
    "learner = Learner(mnist_bunch, [AccuracyCallback(), LossCallback()])"
   ]
  },
  {
   "cell_type": "code",
   "execution_count": 9,
   "metadata": {},
   "outputs": [
    {
     "name": "stdout",
     "output_type": "stream",
     "text": [
      "train:  1.170127511024475 validation:  1.4694068431854248\n",
      "train:  1.1595667600631714 validation:  1.0507398843765259\n",
      "train:  0.5154829025268555 validation:  0.3812672197818756\n",
      "Final accuracy: 0.893600\n"
     ]
    }
   ],
   "source": [
    "learner.fit(3)"
   ]
  },
  {
   "cell_type": "code",
   "execution_count": 10,
   "metadata": {},
   "outputs": [
    {
     "data": {
      "image/png": "[encoded data removed]",
      "text/plain": [
       "<Figure size 432x288 with 1 Axes>"
      ]
     },
     "metadata": {
      "needs_background": "light"
     },
     "output_type": "display_data"
    },
    {
     "data": {
      "image/png": "[encoded data removed]",
      "text/plain": [
       "<Figure size 432x288 with 1 Axes>"
      ]
     },
     "metadata": {
      "needs_background": "light"
     },
     "output_type": "display_data"
    }
   ],
   "source": [
    "learner.plot_train_loss()\n",
    "learner.plot_validation_loss()"
   ]
  },
  {
   "cell_type": "code",
   "execution_count": 11,
   "metadata": {},
   "outputs": [
    {
     "data": {
      "image/png": "[encoded data removed]",
      "text/plain": [
       "<Figure size 432x288 with 1 Axes>"
      ]
     },
     "metadata": {
      "needs_background": "light"
     },
     "output_type": "display_data"
    }
   ],
   "source": [
    "learner.plot_accuracy()"
   ]
  },
  {
   "cell_type": "markdown",
   "metadata": {},
   "source": [
    "## Scheduler"
   ]
  },
  {
   "cell_type": "code",
   "execution_count": 12,
   "metadata": {},
   "outputs": [],
   "source": [
    "#export\n",
    "import math\n",
    "class ParamScheduler(Callback):\n",
    "    \"Callback for parameter schedulling\"\n",
    "    def __init__(self, param_name, sched_func, *args):\n",
    "        self.param_name = param_name\n",
    "        self.sched_func = getattr(self, sched_func, None)\n",
    "        self.args = args\n",
    "        \n",
    "    def fit_begin(self, *args):\n",
    "        self.learner.metrics[self.param_name] = []\n",
    "        self.iters = len(self.learner.data_bunch.train_dl)\n",
    "        for pg in self.learner.optimizer.param_groups:\n",
    "            pg[self.param_name] = self.args[0]\n",
    "        \n",
    "    def train_begin(self, *args):\n",
    "        self.iter = 0.\n",
    "\n",
    "    def train_batch_begin(self, *args):\n",
    "        epoch_iter = self.learner.epoch + (self.iter / self.iters)\n",
    "        for pg in self.learner.optimizer.param_groups:\n",
    "            position =  epoch_iter / self.learner.total_epochs\n",
    "            pg[self.param_name] = self.sched_func(position, *self.args)\n",
    "        self.learner.metrics[self.param_name].append(pg[self.param_name])       \n",
    "        self.iter += 1.\n",
    "            \n",
    "    def linear_sched(self, position, start, end, *args):\n",
    "        return start + position * (end-start)\n",
    "    \n",
    "    def cosine_sched(self, position, start, end, *args):\n",
    "        return start + (1 + math.cos(math.pi *(1 - position))) * (end-start)/2\n",
    "    \n",
    "    def fixed_sched(self, position, start, *args):\n",
    "        return start\n",
    "\n",
    "class CombineScheduler(Callback):\n",
    "    \"Callback for combined parameter schedulling\"\n",
    "    def __init__(self, param_name, prop_list, sched_list, start, mid, end):\n",
    "        self.param_name = param_name\n",
    "        assert sum(prop_list)==1, 'Proportions must equal to 1'\n",
    "        assert len(prop_list)==len(sched_list)==2, 'Number of proportions and schedules must equal'\n",
    "        self.prop_list = prop_list\n",
    "        self.sched_list = sched_list\n",
    "        self.start, self.mid, self.end = start, mid, end\n",
    "    \n",
    "    def fit_begin(self, *args):\n",
    "        self.iters = len(self.learner.data_bunch.train_dl)\n",
    "        self.split = self.prop_list[0] * self.learner.total_epochs\n",
    "        self.learner.metrics[self.param_name] = []\n",
    "        for pg in self.learner.optimizer.param_groups:\n",
    "            pg[self.param_name] = self.start\n",
    "        self.p1 = ParamScheduler(self.param_name, self.sched_list[0], self.start, self.mid)\n",
    "        self.p2 = ParamScheduler(self.param_name, self.sched_list[1], self.mid, self.end)\n",
    "        self.p1.init_learner(self.learner)\n",
    "        self.p2.init_learner(self.learner)\n",
    "        \n",
    "    def train_begin(self, *args):\n",
    "        self.iter = 0.\n",
    "\n",
    "    def train_batch_begin(self, *args):\n",
    "        epoch_iter = self.learner.epoch + (self.iter / self.iters)\n",
    "        for pg in self.learner.optimizer.param_groups:\n",
    "            if epoch_iter < self.split:\n",
    "                position = epoch_iter / self.split\n",
    "                pg[self.param_name] = self.p1.sched_func(position, self.start, self.mid)\n",
    "            else:\n",
    "                position = (epoch_iter-self.split) / (self.learner.total_epochs-self.split)\n",
    "                pg[self.param_name] = self.p2.sched_func(position, self.mid, self.end)\n",
    "        self.learner.metrics[self.param_name].append(pg[self.param_name])       \n",
    "        self.iter += 1.            "
   ]
  },
  {
   "cell_type": "code",
   "execution_count": 13,
   "metadata": {
    "scrolled": false
   },
   "outputs": [],
   "source": [
    "learner = Learner(mnist_bunch, [AccuracyCallback(), ParamScheduler('lr', 'cosine_sched', 1, 0.1)])"
   ]
  },
  {
   "cell_type": "code",
   "execution_count": 14,
   "metadata": {
    "scrolled": false
   },
   "outputs": [
    {
     "name": "stdout",
     "output_type": "stream",
     "text": [
      "Final accuracy: 0.805000\n"
     ]
    }
   ],
   "source": [
    "learner.fit(3)"
   ]
  },
  {
   "cell_type": "code",
   "execution_count": 15,
   "metadata": {
    "scrolled": true
   },
   "outputs": [
    {
     "data": {
      "image/png": "[encoded data removed]",
      "text/plain": [
       "<Figure size 432x288 with 1 Axes>"
      ]
     },
     "metadata": {
      "needs_background": "light"
     },
     "output_type": "display_data"
    }
   ],
   "source": [
    "learner.plot_lr()"
   ]
  },
  {
   "cell_type": "code",
   "execution_count": 16,
   "metadata": {
    "run_control": {
     "marked": false
    }
   },
   "outputs": [],
   "source": [
    "learner = Learner(mnist_bunch, [AccuracyCallback(), CombineScheduler('lr', [0.3, 0.7], ['cosine_sched', 'cosine_sched'], 0.1, 1, 0.1)])"
   ]
  },
  {
   "cell_type": "code",
   "execution_count": 17,
   "metadata": {
    "run_control": {
     "marked": false
    }
   },
   "outputs": [
    {
     "name": "stdout",
     "output_type": "stream",
     "text": [
      "Final accuracy: 0.554300\n"
     ]
    }
   ],
   "source": [
    "learner.fit(3)"
   ]
  },
  {
   "cell_type": "code",
   "execution_count": 18,
   "metadata": {
    "run_control": {
     "marked": false
    }
   },
   "outputs": [
    {
     "data": {
      "image/png": "[encoded data removed]",
      "text/plain": [
       "<Figure size 432x288 with 1 Axes>"
      ]
     },
     "metadata": {
      "needs_background": "light"
     },
     "output_type": "display_data"
    }
   ],
   "source": [
    "learner.plot_lr()"
   ]
  },
  {
   "cell_type": "code",
   "execution_count": 19,
   "metadata": {},
   "outputs": [
    {
     "data": {
      "image/png": "[encoded data removed]",
      "text/plain": [
       "<Figure size 432x288 with 1 Axes>"
      ]
     },
     "metadata": {
      "needs_background": "light"
     },
     "output_type": "display_data"
    }
   ],
   "source": [
    "learner.plot_accuracy()"
   ]
  },
  {
   "cell_type": "code",
   "execution_count": 5,
   "metadata": {},
   "outputs": [
    {
     "name": "stdout",
     "output_type": "stream",
     "text": [
      "Converted 05bMagda_annealing.ipynb to exp/nb_05bMagda.py\r\n"
     ]
    }
   ],
   "source": [
    "!./notebook2script.py 05bMagda_annealing.ipynb"
   ]
  }
 ],
 "metadata": {
  "kernelspec": {
   "display_name": "Python 3",
   "language": "python",
   "name": "python3"
  },
  "language_info": {
   "codemirror_mode": {
    "name": "ipython",
    "version": 3
   },
   "file_extension": ".py",
   "mimetype": "text/x-python",
   "name": "python",
   "nbconvert_exporter": "python",
   "pygments_lexer": "ipython3",
   "version": "3.7.7"
  }
 },
 "nbformat": 4,
 "nbformat_minor": 4
}
