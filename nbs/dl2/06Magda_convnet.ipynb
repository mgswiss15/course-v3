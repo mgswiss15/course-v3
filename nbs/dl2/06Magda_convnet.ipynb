{
 "cells": [
  {
   "cell_type": "code",
   "execution_count": 1,
   "metadata": {},
   "outputs": [],
   "source": [
    "%matplotlib inline\n",
    "%load_ext autoreload\n",
    "%autoreload 2"
   ]
  },
  {
   "cell_type": "code",
   "execution_count": 2,
   "metadata": {
    "run_control": {
     "marked": false
    }
   },
   "outputs": [],
   "source": [
    "#export\n",
    "from exp.nb_03Magda import *\n",
    "from exp.nb_04Magda_corrected import *\n",
    "from exp.nb_05bMagda import *\n",
    "import torch\n",
    "from torch import nn\n",
    "from torch import optim\n",
    "import torch.nn.functional as F"
   ]
  },
  {
   "cell_type": "code",
   "execution_count": 4,
   "metadata": {},
   "outputs": [],
   "source": [
    "train_x, train_y, valid_x, valid_y, test_x, test_y = get_mnist()"
   ]
  },
  {
   "cell_type": "code",
   "execution_count": 5,
   "metadata": {},
   "outputs": [],
   "source": [
    "#export\n",
    "def norm_all(tr, val, tst):\n",
    "    tr, val, tst = map(lambda x: normalize(tr, x), (tr, val, tst))\n",
    "    return tr, val, tst"
   ]
  },
  {
   "cell_type": "code",
   "execution_count": 6,
   "metadata": {},
   "outputs": [],
   "source": [
    "train_x, valid_x, test_x = norm_all(train_x, valid_x, test_x)"
   ]
  },
  {
   "cell_type": "code",
   "execution_count": 7,
   "metadata": {},
   "outputs": [],
   "source": [
    "mnist_bunch = DataBunch(train_x, train_y, valid_x, valid_y, 5000)"
   ]
  },
  {
   "cell_type": "markdown",
   "metadata": {},
   "source": [
    "## Test learner"
   ]
  },
  {
   "cell_type": "code",
   "execution_count": 8,
   "metadata": {},
   "outputs": [],
   "source": [
    "cb_list = [LossCallback(), AccuracyCallback()]\n",
    "cb_list.append(ParamScheduler('lr', 'fixed_sched', 0.5))\n",
    "learner = Learner(mnist_bunch, cb_list)"
   ]
  },
  {
   "cell_type": "code",
   "execution_count": 9,
   "metadata": {},
   "outputs": [
    {
     "name": "stdout",
     "output_type": "stream",
     "text": [
      "train:  1.292689323425293 validation:  1.449432373046875\n",
      "train:  1.1692966222763062 validation:  1.0090575218200684\n",
      "train:  0.5967571139335632 validation:  0.5476352572441101\n",
      "train:  0.39348816871643066 validation:  0.37754279375076294\n",
      "train:  0.37523743510246277 validation:  0.32547152042388916\n",
      "train:  0.31835106015205383 validation:  0.2810766100883484\n",
      "train:  0.26043379306793213 validation:  0.2446419894695282\n",
      "train:  0.27818697690963745 validation:  0.2575910687446594\n",
      "train:  0.23087453842163086 validation:  0.2280489206314087\n",
      "train:  0.24081963300704956 validation:  0.2264995127916336\n",
      "Final accuracy: 0.935000\n"
     ]
    }
   ],
   "source": [
    "learner.fit(10)"
   ]
  },
  {
   "cell_type": "code",
   "execution_count": 10,
   "metadata": {},
   "outputs": [
    {
     "data": {
      "image/png": "[encoded data removed]",
      "text/plain": [
       "<Figure size 432x288 with 1 Axes>"
      ]
     },
     "metadata": {
      "needs_background": "light"
     },
     "output_type": "display_data"
    }
   ],
   "source": [
    "learner.plot_lr()"
   ]
  },
  {
   "cell_type": "markdown",
   "metadata": {},
   "source": [
    "## ConvNet"
   ]
  },
  {
   "cell_type": "code",
   "execution_count": 11,
   "metadata": {},
   "outputs": [],
   "source": [
    "#export\n",
    "class ReshapeMnist(Callback):\n",
    "    def train_batch_begin(self, *args):\n",
    "        self.learner.batch_x = self.learner.batch_x.view(-1, 1, 28, 28)\n",
    "\n",
    "    def validation_batch_begin(self, *args):\n",
    "        self.train_batch_begin()\n",
    "        "
   ]
  },
  {
   "cell_type": "code",
   "execution_count": 12,
   "metadata": {},
   "outputs": [],
   "source": [
    "#export\n",
    "class Flatten(nn.Module):       \n",
    "    def forward(self, x):\n",
    "        return x.view(x.shape[0], -1)\n",
    "    "
   ]
  },
  {
   "cell_type": "code",
   "execution_count": 13,
   "metadata": {},
   "outputs": [],
   "source": [
    "#export\n",
    "class LearnerCnn(Learner):   \n",
    "    def _get_model(self, num_out=10):\n",
    "        self.model = nn.Sequential(\n",
    "            nn.Conv2d(1, 8, 5, padding=2, stride=2), nn.ReLU(),\n",
    "            nn.Conv2d(8, 16, 3, padding=1, stride=2), nn.ReLU(),            \n",
    "            nn.Conv2d(16, 32, 3, padding=1, stride=2), nn.ReLU(),            \n",
    "            nn.Conv2d(32, 64, 3, padding=1, stride=2), nn.ReLU(),\n",
    "            nn.Conv2d(64, 64, 3, padding=1, stride=2), nn.ReLU(),\n",
    "            nn.AdaptiveAvgPool2d(1),\n",
    "            Flatten(),\n",
    "            nn.Linear(64, num_out)\n",
    "        )\n"
   ]
  },
  {
   "cell_type": "code",
   "execution_count": 14,
   "metadata": {},
   "outputs": [],
   "source": [
    "cb_list = [ReshapeMnist()]\n",
    "cb_list.append(CombineScheduler('lr', [0.3, 0.7], ['cosine_sched', 'cosine_sched'], 0.3, 0.8, 0.3))\n",
    "learner_cnn = LearnerCnn(mnist_bunch, cb_list)"
   ]
  },
  {
   "cell_type": "code",
   "execution_count": 15,
   "metadata": {},
   "outputs": [
    {
     "name": "stdout",
     "output_type": "stream",
     "text": [
      "CPU times: user 50.8 s, sys: 25.4 s, total: 1min 16s\n",
      "Wall time: 7.2 s\n"
     ]
    }
   ],
   "source": [
    "%time learner_cnn.fit(3)"
   ]
  },
  {
   "cell_type": "code",
   "execution_count": 16,
   "metadata": {},
   "outputs": [
    {
     "data": {
      "image/png": "[encoded data removed]",
      "text/plain": [
       "<Figure size 432x288 with 1 Axes>"
      ]
     },
     "metadata": {
      "needs_background": "light"
     },
     "output_type": "display_data"
    }
   ],
   "source": [
    "learner_cnn.plot_lr()"
   ]
  },
  {
   "cell_type": "markdown",
   "metadata": {},
   "source": [
    "## cuda"
   ]
  },
  {
   "cell_type": "code",
   "execution_count": 17,
   "metadata": {},
   "outputs": [
    {
     "data": {
      "text/plain": [
       "device(type='cuda')"
      ]
     },
     "execution_count": 17,
     "metadata": {},
     "output_type": "execute_result"
    }
   ],
   "source": [
    "device = torch.device('cuda') if torch.cuda.is_available() else torch.device('cpu')\n",
    "device"
   ]
  },
  {
   "cell_type": "code",
   "execution_count": 18,
   "metadata": {},
   "outputs": [],
   "source": [
    "#export\n",
    "class CudaCallback(Callback):\n",
    "    def __init__(self, device):\n",
    "        self.device = device\n",
    "        super(CudaCallback, self).__init__()\n",
    "    \n",
    "    def fit_begin(self, *args):\n",
    "        self.learner.model = self.learner.model.to(device=self.device)\n",
    "    \n",
    "    def train_batch_begin(self, *args):\n",
    "        self.learner.batch_x = self.learner.batch_x.to(device=self.device)\n",
    "        self.learner.batch_y = self.learner.batch_y.to(device=self.device)\n",
    "\n",
    "    def validation_batch_begin(self, *args):\n",
    "        self.train_batch_begin()\n"
   ]
  },
  {
   "cell_type": "code",
   "execution_count": 22,
   "metadata": {},
   "outputs": [],
   "source": [
    "cb_list = [CudaCallback(device), ReshapeMnist(), LossCallback(), AccuracyCallback()]\n",
    "cb_list.append(CombineScheduler('lr', [0.3, 0.7], ['cosine_sched', 'cosine_sched'], 0.01, 1, 0.01))\n",
    "learner_cnn = LearnerCnn(mnist_bunch, cb_list)"
   ]
  },
  {
   "cell_type": "code",
   "execution_count": 23,
   "metadata": {},
   "outputs": [
    {
     "name": "stdout",
     "output_type": "stream",
     "text": [
      "train:  2.303323745727539 validation:  2.302888870239258\n",
      "train:  2.296865224838257 validation:  2.2962357997894287\n",
      "train:  2.237903118133545 validation:  2.1876606941223145\n",
      "train:  2.309356927871704 validation:  2.304713487625122\n",
      "train:  2.272059440612793 validation:  2.2434816360473633\n",
      "train:  2.306182384490967 validation:  2.299791097640991\n",
      "train:  2.190755605697632 validation:  2.1586427688598633\n",
      "train:  1.8482831716537476 validation:  1.809433937072754\n",
      "train:  1.431034803390503 validation:  1.4136449098587036\n",
      "train:  1.3546347618103027 validation:  1.3301780223846436\n",
      "Final accuracy: 0.527200\n",
      "CPU times: user 12.5 s, sys: 29.9 ms, total: 12.6 s\n",
      "Wall time: 10.5 s\n"
     ]
    }
   ],
   "source": [
    "%time learner_cnn.fit(10)"
   ]
  },
  {
   "cell_type": "code",
   "execution_count": 24,
   "metadata": {},
   "outputs": [
    {
     "data": {
      "image/png": "[encoded data removed]",
      "text/plain": [
       "<Figure size 432x288 with 1 Axes>"
      ]
     },
     "metadata": {
      "needs_background": "light"
     },
     "output_type": "display_data"
    },
    {
     "data": {
      "image/png": "[encoded data removed]",
      "text/plain": [
       "<Figure size 432x288 with 1 Axes>"
      ]
     },
     "metadata": {
      "needs_background": "light"
     },
     "output_type": "display_data"
    }
   ],
   "source": [
    "learner_cnn.plot_lr()\n",
    "learner_cnn.plot_train_loss()"
   ]
  },
  {
   "cell_type": "code",
   "execution_count": 2,
   "metadata": {},
   "outputs": [
    {
     "name": "stdout",
     "output_type": "stream",
     "text": [
      "Converted 06Magda_convnet.ipynb to exp/nb_06Magda.py\r\n"
     ]
    }
   ],
   "source": [
    "!./notebook2script.py 06Magda_convnet.ipynb"
   ]
  }
 ],
 "metadata": {
  "kernelspec": {
   "display_name": "Python 3",
   "language": "python",
   "name": "python3"
  },
  "language_info": {
   "codemirror_mode": {
    "name": "ipython",
    "version": 3
   },
   "file_extension": ".py",
   "mimetype": "text/x-python",
   "name": "python",
   "nbconvert_exporter": "python",
   "pygments_lexer": "ipython3",
   "version": "3.7.7"
  }
 },
 "nbformat": 4,
 "nbformat_minor": 4
}
