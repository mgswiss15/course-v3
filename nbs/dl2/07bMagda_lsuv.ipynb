{
 "cells": [
  {
   "cell_type": "code",
   "execution_count": 1,
   "metadata": {},
   "outputs": [],
   "source": [
    "%matplotlib inline\n",
    "%load_ext autoreload\n",
    "%autoreload 2"
   ]
  },
  {
   "cell_type": "code",
   "execution_count": 2,
   "metadata": {},
   "outputs": [],
   "source": [
    "#export\n",
    "from exp.nb_06cMagda import *"
   ]
  },
  {
   "cell_type": "code",
   "execution_count": 3,
   "metadata": {},
   "outputs": [],
   "source": [
    "mnist_bunch = quick_mnist_data()"
   ]
  },
  {
   "cell_type": "markdown",
   "metadata": {},
   "source": [
    "## Better learner"
   ]
  },
  {
   "cell_type": "code",
   "execution_count": 4,
   "metadata": {},
   "outputs": [],
   "source": [
    "#export\n",
    "class Learner():\n",
    "    def __init__(self, data_bunch, model, optimizer, loss_func, callback_list=[]):\n",
    "        assert isinstance(data_bunch, DataBunch), 'First paramtere should be a DataBunch'\n",
    "        assert isinstance(callback_list, list), 'Second paramters should be a LIST (of callbacks)'\n",
    "        self.data_bunch = data_bunch\n",
    "        self.model = model\n",
    "        self.loss_func = loss_func\n",
    "        self._get_optimizer(optimizer)\n",
    "        self.callback_list = callback_list + [PlotsCallback()]\n",
    "        for cb in self.callback_list:\n",
    "            cb.init_learner(self)\n",
    "        self.epoch = 0\n",
    "        self.batch_x = None\n",
    "        self.batch_y = None\n",
    "        self.metrics = {}\n",
    "\n",
    "    def _get_optimizer(self, optimizer, lr=0.5):\n",
    "        self.optimizer = optimizer(self.model.parameters(), lr=lr)\n",
    "\n",
    "    def forward(self, bx, by):\n",
    "        logits = self.model(bx)\n",
    "        loss = self.loss_func(logits, by)\n",
    "        return logits, loss\n",
    "\n",
    "    def backward(self, loss):\n",
    "        loss.backward()\n",
    "        self.callback('before_optim_step')\n",
    "        self.optimizer.step()\n",
    "        self.optimizer.zero_grad()\n",
    "\n",
    "    def fit(self, epochs):\n",
    "        assert isinstance(epochs, int), 'Number of epochs should be INT'\n",
    "        self.total_epochs = epochs\n",
    "        self.callback('fit_begin')\n",
    "        for self.epoch in range(epochs):\n",
    "            try:\n",
    "                self.model.train()\n",
    "                self.callback('train_begin')\n",
    "                for (self.batch_x, self.batch_y) in self.data_bunch.train_dl:\n",
    "                    self.callback('train_batch_begin')\n",
    "                    logits, loss = self.forward(self.batch_x, self.batch_y)\n",
    "                    self.backward(loss)\n",
    "                    self.callback('train_batch_end', loss)\n",
    "                self.model.eval()\n",
    "                with torch.no_grad():\n",
    "                    self.callback('validation_begin')\n",
    "                    for (self.batch_x, self.batch_y) in self.data_bunch.valid_dl:\n",
    "                        self.callback('validation_batch_begin')\n",
    "                        logits, loss = self.forward(self.batch_x, self.batch_y)\n",
    "                        self.callback('validation_batch_end', logits, loss)\n",
    "                self.callback('epoch_end')\n",
    "            except EarlyStopping:\n",
    "                print(self.epoch, 'stopping ... ')\n",
    "                break\n",
    "        self.callback('fit_end')\n",
    "\n",
    "    def callback(self, cb_name, *args, **kwargs):\n",
    "        for cb in self.callback_list:\n",
    "            cb_method = getattr(cb, cb_name, None)\n",
    "            if cb_method:\n",
    "                cb_method(*args, **kwargs)"
   ]
  },
  {
   "cell_type": "code",
   "execution_count": 5,
   "metadata": {},
   "outputs": [],
   "source": [
    "optimizer = optim.SGD\n",
    "loss_func = F.cross_entropy\n",
    "model = nn.Sequential(\n",
    "    nn.Conv2d(1, 8, 5, padding=2, stride=2), nn.ReLU(),\n",
    "    nn.Conv2d(8, 16, 3, padding=1, stride=2), nn.ReLU(),\n",
    "    nn.Conv2d(16, 32, 3, padding=1, stride=2), nn.ReLU(),\n",
    "    nn.Conv2d(32, 64, 3, padding=1, stride=2), nn.ReLU(),\n",
    "    nn.Conv2d(64, 64, 3, padding=1, stride=2), nn.ReLU(),\n",
    "    nn.AdaptiveAvgPool2d(1),\n",
    "    Flatten(),\n",
    "    nn.Linear(64, 10)\n",
    ")"
   ]
  },
  {
   "cell_type": "code",
   "execution_count": 6,
   "metadata": {},
   "outputs": [],
   "source": [
    "device = torch.device('cuda')\n",
    "cb_list = [ReshapeMnist(), CudaCallback(device), LossCallback(), AccuracyCallback()]\n",
    "learner = Learner(mnist_bunch, model, optimizer, loss_func, cb_list)"
   ]
  },
  {
   "cell_type": "code",
   "execution_count": 7,
   "metadata": {},
   "outputs": [
    {
     "name": "stdout",
     "output_type": "stream",
     "text": [
      "train:  2.285607099533081 validation:  1.9642009735107422\n",
      "train:  0.25232309103012085 validation:  0.2292005568742752\n",
      "train:  0.124610535800457 validation:  0.1302984058856964\n",
      "train:  0.07463619858026505 validation:  0.09150710701942444\n",
      "train:  0.07775798439979553 validation:  0.07968509197235107\n",
      "Final accuracy: 0.976700\n"
     ]
    }
   ],
   "source": [
    "learner.fit(5)"
   ]
  },
  {
   "cell_type": "markdown",
   "metadata": {},
   "source": [
    "## Better weight monitoring"
   ]
  },
  {
   "cell_type": "code",
   "execution_count": 8,
   "metadata": {},
   "outputs": [],
   "source": [
    "#export\n",
    "class WeightsMonitoringCallback(Callback):\n",
    "    def fit_begin(self):\n",
    "        for layer in self.learner.model.children():\n",
    "            if hasattr(layer, 'weight'):\n",
    "                layer.weights_mean = []\n",
    "                layer.weights_std = []\n",
    "                layer.weights_mean = []\n",
    "                layer.weights_std = []\n",
    "\n",
    "    def before_optim_step(self):\n",
    "        for layer in self.learner.model.children():\n",
    "            try:\n",
    "                weight = layer.weight.detach()\n",
    "                layer.weights_mean.append(weight.mean().item())\n",
    "                layer.weights_std.append(weight.std().item())\n",
    "                layer.weights_mean.append(weight.grad.mean().item())\n",
    "                layer.weights_std.append(weight.grad.std().item())\n",
    "            except AttributeError:\n",
    "                pass"
   ]
  },
  {
   "cell_type": "code",
   "execution_count": 9,
   "metadata": {},
   "outputs": [],
   "source": [
    "#export\n",
    "class InitCallback(Callback):\n",
    "    def fit_begin(self):\n",
    "        for layer in self.learner.model.children():\n",
    "            try:\n",
    "                init.kaiming_normal_(layer.weight)\n",
    "                init.zeros_(layer.bias)\n",
    "            except AttributeError:\n",
    "                pass\n",
    "        print('All layers initialised')"
   ]
  },
  {
   "cell_type": "code",
   "execution_count": 10,
   "metadata": {},
   "outputs": [],
   "source": [
    "model = nn.Sequential(\n",
    "    nn.Conv2d(1, 8, 5, padding=2, stride=2), nn.ReLU(),\n",
    "    nn.Conv2d(8, 16, 3, padding=1, stride=2), nn.ReLU(),\n",
    "    nn.Conv2d(16, 32, 3, padding=1, stride=2), nn.ReLU(),\n",
    "    nn.Conv2d(32, 64, 3, padding=1, stride=2), nn.ReLU(),\n",
    "    nn.Conv2d(64, 64, 3, padding=1, stride=2), nn.ReLU(),\n",
    "    nn.AdaptiveAvgPool2d(1),\n",
    "    Flatten(),\n",
    "    nn.Linear(64, 10)\n",
    ")\n",
    "device = torch.device('cuda')\n",
    "cb_list = [\n",
    "    ReshapeMnist(),\n",
    "    CudaCallback(device),\n",
    "    LossCallback(),\n",
    "    AccuracyCallback(),\n",
    "    InitCallback(),\n",
    "#     HooksCallback(LsuvHook),\n",
    "    WeightsMonitoringCallback()\n",
    "]\n",
    "learner = Learner(mnist_bunch, model, optimizer, loss_func, cb_list)"
   ]
  },
  {
   "cell_type": "code",
   "execution_count": 11,
   "metadata": {
    "scrolled": true
   },
   "outputs": [
    {
     "name": "stdout",
     "output_type": "stream",
     "text": [
      "initialised layer: Conv2d(1, 8, kernel_size=(5, 5), stride=(2, 2), padding=(2, 2))\n",
      "initialised layer: Conv2d(8, 16, kernel_size=(3, 3), stride=(2, 2), padding=(1, 1))\n",
      "initialised layer: Conv2d(16, 32, kernel_size=(3, 3), stride=(2, 2), padding=(1, 1))\n",
      "initialised layer: Conv2d(32, 64, kernel_size=(3, 3), stride=(2, 2), padding=(1, 1))\n",
      "initialised layer: Conv2d(64, 64, kernel_size=(3, 3), stride=(2, 2), padding=(1, 1))\n",
      "initialised layer: Linear(in_features=64, out_features=10, bias=True)\n",
      "train:  0.6497827172279358 validation:  0.4034479856491089\n",
      "train:  0.2080659419298172 validation:  0.13958822190761566\n",
      "train:  0.06444238126277924 validation:  0.0940057709813118\n",
      "Final accuracy: 0.970400\n"
     ]
    }
   ],
   "source": [
    "learner.fit(3)"
   ]
  },
  {
   "cell_type": "code",
   "execution_count": 12,
   "metadata": {},
   "outputs": [
    {
     "name": "stdout",
     "output_type": "stream",
     "text": [
      "0.017663946375250816\n",
      "0.004145846236497164\n",
      "0.002812429564073682\n",
      "-0.00048122223233804107\n",
      "4.763650940731168e-05\n",
      "0.003855240298435092\n"
     ]
    }
   ],
   "source": [
    "for l in model.children():\n",
    "    try:\n",
    "        print(l.weights_mean[0])\n",
    "    except AttributeError:\n",
    "        pass"
   ]
  },
  {
   "cell_type": "markdown",
   "metadata": {},
   "source": [
    "## LSUV"
   ]
  },
  {
   "cell_type": "code",
   "execution_count": 13,
   "metadata": {},
   "outputs": [],
   "source": [
    "def get_one_batch_bunch(data_bunch):\n",
    "    batch_x, batch_y = data_bunch.train_data[0:data_bunch.train_bs]\n",
    "    one_batch_bunch = DataBunch(batch_x, batch_y, batch_x, batch_y, data_bunch.train_bs)\n",
    "    return one_batch_bunch"
   ]
  },
  {
   "cell_type": "code",
   "execution_count": 14,
   "metadata": {},
   "outputs": [],
   "source": [
    "one_batch_bunch = get_one_batch_bunch(mnist_bunch)"
   ]
  },
  {
   "cell_type": "code",
   "execution_count": 15,
   "metadata": {},
   "outputs": [],
   "source": [
    "#export\n",
    "def get_one_batch_bunch(data_bunch):\n",
    "    batch_x, batch_y = data_bunch.train_data[0:data_bunch.train_bs]\n",
    "    return batch_x, batch_y"
   ]
  },
  {
   "cell_type": "code",
   "execution_count": 26,
   "metadata": {},
   "outputs": [],
   "source": [
    "#export\n",
    "def lsuv_init(model, batch_x):\n",
    "    hooks = []\n",
    "\n",
    "    for layer in model.children():\n",
    "        try:\n",
    "            init.kaiming_normal_(layer.weight)\n",
    "            init.zeros_(layer.bias)\n",
    "            hooks.append(layer.register_forward_hook(OutputStatsHook.forward_hook))\n",
    "        except AttributeError:\n",
    "                pass\n",
    "    \n",
    "    for i in range(10):\n",
    "        model(batch_x)\n",
    "        layers_done = []\n",
    "        for layer in model.children():\n",
    "            try:\n",
    "                if abs(layer.output_stats['means'][-1]) > 1e-3:\n",
    "                    layer.bias.data = layer.bias.data - layer.output_stats['means'][-1]\n",
    "                    layers_done.append(False)\n",
    "                else:\n",
    "                    layers_done.append(True)\n",
    "                if abs(layer.output_stats['stds'][-1] - 1) > 1e-3:\n",
    "                    layer.weight.data = layer.weight.data / layer.output_stats['stds'][-1]\n",
    "                    layers_done.append(False)\n",
    "                else:\n",
    "                    layers_done.append(True)\n",
    "            except AttributeError:\n",
    "                pass\n",
    "        if all(layers_done):\n",
    "            print('All layers initialised')\n",
    "            break\n",
    "    \n",
    "    while len(hooks) > 0:\n",
    "        hook = hooks.pop()\n",
    "        hook.remove()\n"
   ]
  },
  {
   "cell_type": "code",
   "execution_count": 27,
   "metadata": {},
   "outputs": [],
   "source": [
    "batch_x, _ = get_one_batch_bunch(mnist_bunch)"
   ]
  },
  {
   "cell_type": "code",
   "execution_count": 28,
   "metadata": {},
   "outputs": [],
   "source": [
    "model = nn.Sequential(\n",
    "    nn.Conv2d(1, 8, 5, padding=2, stride=2), nn.ReLU(),\n",
    "    nn.Conv2d(8, 16, 3, padding=1, stride=2), nn.ReLU(),\n",
    "    nn.Conv2d(16, 32, 3, padding=1, stride=2), nn.ReLU(),\n",
    "    nn.Conv2d(32, 64, 3, padding=1, stride=2), nn.ReLU(),\n",
    "    nn.Conv2d(64, 64, 3, padding=1, stride=2), nn.ReLU(),\n",
    "    nn.AdaptiveAvgPool2d(1),\n",
    "    Flatten(),\n",
    "    nn.Linear(64, 10)\n",
    ")"
   ]
  },
  {
   "cell_type": "code",
   "execution_count": 29,
   "metadata": {
    "scrolled": false
   },
   "outputs": [
    {
     "name": "stdout",
     "output_type": "stream",
     "text": [
      "All layers initialised\n"
     ]
    }
   ],
   "source": [
    "lsuv_init(model, batch_x.view(-1, 1, 28, 28))"
   ]
  },
  {
   "cell_type": "code",
   "execution_count": 32,
   "metadata": {
    "run_control": {
     "marked": false
    }
   },
   "outputs": [
    {
     "name": "stdout",
     "output_type": "stream",
     "text": [
      "Conv2d(1, 8, kernel_size=(5, 5), stride=(2, 2), padding=(2, 2)) mean -1.8635954290857626e-07 std 1.0\n",
      "ReLU() no stats\n",
      "Conv2d(8, 16, kernel_size=(3, 3), stride=(2, 2), padding=(1, 1)) mean 0.00013700549607165158 std 0.9999999403953552\n",
      "ReLU() no stats\n",
      "Conv2d(16, 32, kernel_size=(3, 3), stride=(2, 2), padding=(1, 1)) mean -0.0003961618640460074 std 1.0\n",
      "ReLU() no stats\n",
      "Conv2d(32, 64, kernel_size=(3, 3), stride=(2, 2), padding=(1, 1)) mean -0.0007452480494976044 std 1.0\n",
      "ReLU() no stats\n",
      "Conv2d(64, 64, kernel_size=(3, 3), stride=(2, 2), padding=(1, 1)) mean -0.0006646662950515747 std 1.0\n",
      "ReLU() no stats\n",
      "AdaptiveAvgPool2d(output_size=1) no stats\n",
      "Flatten() no stats\n",
      "Linear(in_features=64, out_features=10, bias=True) mean 1.4901161193847656e-08 std 0.9999999403953552\n"
     ]
    }
   ],
   "source": [
    "layers = model.children()\n",
    "for layer in layers:\n",
    "    try:\n",
    "        print(layer, 'mean', layer.output_stats['means'][-1], 'std', layer.output_stats['stds'][-1])\n",
    "    except AttributeError:\n",
    "        print(layer, 'no stats')"
   ]
  },
  {
   "cell_type": "code",
   "execution_count": 33,
   "metadata": {},
   "outputs": [],
   "source": [
    "device = torch.device('cuda')\n",
    "cb_list = [ReshapeMnist(), CudaCallback(device), LossCallback(), AccuracyCallback()]\n",
    "learner = Learner(mnist_bunch, model, optimizer, loss_func, cb_list)"
   ]
  },
  {
   "cell_type": "code",
   "execution_count": 34,
   "metadata": {},
   "outputs": [
    {
     "name": "stdout",
     "output_type": "stream",
     "text": [
      "train:  0.711280345916748 validation:  0.5334076881408691\n",
      "train:  0.2277151495218277 validation:  0.2403799295425415\n",
      "train:  0.11383930593729019 validation:  0.14374904334545135\n",
      "train:  0.06739342957735062 validation:  0.11010250449180603\n",
      "train:  0.14088208973407745 validation:  0.09102334827184677\n",
      "Final accuracy: 0.973500\n"
     ]
    }
   ],
   "source": [
    "learner.fit(5)"
   ]
  },
  {
   "cell_type": "code",
   "execution_count": 35,
   "metadata": {},
   "outputs": [
    {
     "data": {
      "text/plain": [
       "[0.022671416401863098,\n",
       " -0.005423418711870909,\n",
       " -1.8635954290857626e-07,\n",
       " -1.8635954290857626e-07,\n",
       " -1.8635954290857626e-07,\n",
       " -1.8635954290857626e-07,\n",
       " -1.8635954290857626e-07,\n",
       " -1.8635954290857626e-07,\n",
       " -1.8635954290857626e-07]"
      ]
     },
     "execution_count": 35,
     "metadata": {},
     "output_type": "execute_result"
    }
   ],
   "source": [
    "layers = model.children()\n",
    "layer = next(layers)\n",
    "layer.output_stats['means']"
   ]
  },
  {
   "cell_type": "code",
   "execution_count": 37,
   "metadata": {},
   "outputs": [
    {
     "data": {
      "image/png": "[encoded data removed]",
      "text/plain": [
       "<Figure size 432x288 with 1 Axes>"
      ]
     },
     "metadata": {
      "needs_background": "light"
     },
     "output_type": "display_data"
    }
   ],
   "source": [
    "learner.plot_train_loss()"
   ]
  },
  {
   "cell_type": "code",
   "execution_count": 39,
   "metadata": {},
   "outputs": [
    {
     "data": {
      "image/png": "[encoded data removed]",
      "text/plain": [
       "<Figure size 432x288 with 1 Axes>"
      ]
     },
     "metadata": {
      "needs_background": "light"
     },
     "output_type": "display_data"
    }
   ],
   "source": [
    "learner.plot_validation_loss()"
   ]
  },
  {
   "cell_type": "code",
   "execution_count": 41,
   "metadata": {},
   "outputs": [
    {
     "data": {
      "image/png": "[encoded data removed]",
      "text/plain": [
       "<Figure size 432x288 with 1 Axes>"
      ]
     },
     "metadata": {
      "needs_background": "light"
     },
     "output_type": "display_data"
    }
   ],
   "source": [
    "learner.plot_accuracy()"
   ]
  },
  {
   "cell_type": "code",
   "execution_count": null,
   "metadata": {},
   "outputs": [],
   "source": [
    "nb_auto_export()"
   ]
  }
 ],
 "metadata": {
  "kernelspec": {
   "display_name": "Python 3",
   "language": "python",
   "name": "python3"
  },
  "language_info": {
   "codemirror_mode": {
    "name": "ipython",
    "version": 3
   },
   "file_extension": ".py",
   "mimetype": "text/x-python",
   "name": "python",
   "nbconvert_exporter": "python",
   "pygments_lexer": "ipython3",
   "version": "3.7.7"
  }
 },
 "nbformat": 4,
 "nbformat_minor": 4
}
