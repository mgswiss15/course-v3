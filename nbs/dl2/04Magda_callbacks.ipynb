{
 "cells": [
  {
   "cell_type": "code",
   "execution_count": 1,
   "metadata": {},
   "outputs": [],
   "source": [
    "%matplotlib inline\n",
    "%load_ext autoreload\n",
    "%autoreload 2"
   ]
  },
  {
   "cell_type": "code",
   "execution_count": 2,
   "metadata": {},
   "outputs": [],
   "source": [
    "import exp.nb_03Magda as exp03"
   ]
  },
  {
   "cell_type": "code",
   "execution_count": 3,
   "metadata": {},
   "outputs": [],
   "source": [
    "train_x, train_y, valid_x, valid_y, test_x, test_y = exp03.get_mnist()"
   ]
  },
  {
   "cell_type": "code",
   "execution_count": 4,
   "metadata": {},
   "outputs": [],
   "source": [
    "from functools import partial\n",
    "norm_by_train = partial(exp03.normalize, data_for_stats=train_x)\n",
    "train_x, valid_x, test_x = [norm_by_train(data_to_norm=x) for x in (train_x, valid_x, test_x)]"
   ]
  },
  {
   "cell_type": "markdown",
   "metadata": {},
   "source": [
    "## Data bunch / learner"
   ]
  },
  {
   "cell_type": "code",
   "execution_count": 5,
   "metadata": {},
   "outputs": [],
   "source": [
    "#export\n",
    "from torch.utils.data import TensorDataset, DataLoader\n",
    "\n",
    "class DataBunch():\n",
    "    def __init__(self, train_in, train_trg, valid_in, valid_trg, train_bs, valid_bs=None):\n",
    "        self.train_data = TensorDataset(train_in, train_trg)\n",
    "        self.valid_data = TensorDataset(valid_in, valid_trg)\n",
    "        self.train_bs = train_bs\n",
    "        self.valid_bs = len(valid_in) if valid_bs is None else valid_bs\n",
    "    \n",
    "    @property\n",
    "    def train_dl(self):\n",
    "        return DataLoader(self.train_data, self.train_bs, shuffle=True)\n",
    "        \n",
    "    @property\n",
    "    def valid_dl(self):\n",
    "        return DataLoader(self.valid_data, self.valid_bs, shuffle=False)"
   ]
  },
  {
   "cell_type": "code",
   "execution_count": 6,
   "metadata": {},
   "outputs": [],
   "source": [
    "mnist_bunch = DataBunch(train_x, train_y, valid_x, valid_y, 5000)"
   ]
  },
  {
   "cell_type": "markdown",
   "metadata": {
    "heading_collapsed": true
   },
   "source": [
    "### fit loop"
   ]
  },
  {
   "cell_type": "code",
   "execution_count": null,
   "metadata": {
    "hidden": true,
    "run_control": {
     "marked": false
    }
   },
   "outputs": [],
   "source": [
    "import torch\n",
    "from torch import optim\n",
    "from torch import nn\n",
    "import torch.nn.functional as F\n",
    "\n",
    "class Learner():\n",
    "    def __init__(self, data_bunch, callbacks):\n",
    "        self.data_bunch = data_bunch\n",
    "        self._get_model()\n",
    "        self._get_optimizer()\n",
    "        self._loss_func()\n",
    "\n",
    "    def _get_model(self, num_hidden=50, num_out=10):\n",
    "        num_in = self.data_bunch.train_data[:][0].size(1)\n",
    "        self.model = nn.Sequential(nn.Linear(num_in, num_hidden), nn.ReLU(), nn.Linear(num_hidden, num_out))\n",
    "\n",
    "    def _get_optimizer(self, lr=0.5):\n",
    "        self.optimizer = optim.SGD(self.model.parameters(), lr=lr)\n",
    "        \n",
    "    def _loss_func(self):\n",
    "        self.loss_func = F.cross_entropy\n",
    "\n",
    "    def get_accuracy(self, logits, targets):\n",
    "        preds = logits.argmax(1)\n",
    "        return (preds==targets).float().mean()\n",
    "    \n",
    "    def train_one_batch(self, bx, by):\n",
    "        self.callbacks.on_batch_begin()\n",
    "        outs = self.model(bx)\n",
    "        loss = self.loss_func(outs, by)\n",
    "        self.callbacks.on_backward_begin()\n",
    "        loss.backward()\n",
    "        self.callbacks.on_step_begin()\n",
    "        self.optimizer.step()\n",
    "        self.callbacks.on_step_end()\n",
    "        self.optimizer.zero_grad()\n",
    "        self.callbacks.on_batch_end()\n",
    "        return loss\n",
    "    \n",
    "    def train_one_epoch(self):\n",
    "        loss = 0.\n",
    "        self.callbacks.on_epoch_begin()\n",
    "        for bidx, (batch_x, batch_y) in enumerate(self.data_bunch.train_dl):\n",
    "            loss += self.train_one_batch(batch_x, batch_y).item()\n",
    "        self.callbacks.on_epoch_end()\n",
    "        return loss / (bidx + 1.)\n",
    "    \n",
    "    def validate(self):\n",
    "        loss = 0.\n",
    "        accuracy = 0.\n",
    "        self.callbacks.on_valid_begin()\n",
    "        for bidx, (batch_x, batch_y) in enumerate(self.data_bunch.valid_dl):\n",
    "            self.callbacks.on_valid_batch_begin()\n",
    "            outs = self.model(batch_x)\n",
    "            loss = self.loss_func(outs, batch_y)\n",
    "            accuracy = self.get_accuracy(outs, batch_y)\n",
    "        self.callbacks.on_valid_end()\n",
    "        return loss.item() / (bidx + 1.), accuracy.item() / (bidx + 1.)\n",
    "    \n",
    "    def train(self, epochs):\n",
    "        train_losses = []\n",
    "        valid_losses = []\n",
    "        valid_accuracy = []\n",
    "        self.callbacks.on_train_begin()\n",
    "        for epoch in range(epochs):\n",
    "            self.model.train()\n",
    "            loss = self.train_one_epoch()\n",
    "            train_losses.append(loss)\n",
    "            self.model.eval()\n",
    "            with torch.no_grad():\n",
    "                loss, accuracy = self.validate()\n",
    "            valid_losses.append(loss)\n",
    "            valid_accuracy.append(accuracy)\n",
    "        self.callbacks.on_train_end()\n",
    "        return train_losses, valid_losses, valid_accuracy"
   ]
  },
  {
   "cell_type": "code",
   "execution_count": null,
   "metadata": {
    "hidden": true
   },
   "outputs": [],
   "source": [
    "learner = Learner(mnist_bunch)"
   ]
  },
  {
   "cell_type": "code",
   "execution_count": null,
   "metadata": {
    "hidden": true
   },
   "outputs": [],
   "source": [
    "train_losses, valid_losses, valid_accuracy = learner.train(10)"
   ]
  },
  {
   "cell_type": "code",
   "execution_count": null,
   "metadata": {
    "hidden": true,
    "run_control": {
     "marked": false
    }
   },
   "outputs": [],
   "source": [
    "learner.data_bunch.train_dl"
   ]
  },
  {
   "cell_type": "code",
   "execution_count": null,
   "metadata": {
    "hidden": true,
    "run_control": {
     "marked": false
    }
   },
   "outputs": [],
   "source": [
    "import torch\n",
    "def fit(learner, epochs):\n",
    "    train_losses = []\n",
    "    valid_losses = []\n",
    "    valid_accuracies = []\n",
    "    for epoch in range(epochs):\n",
    "        learner.model.train()\n",
    "        losses = 0.\n",
    "        for bidx, (batch_x, batch_y) in enumerate(learner.data_bunch.train_dl):\n",
    "            outs = learner.model(batch_x)\n",
    "            loss = learner.loss_func(outs, batch_y)\n",
    "            loss.backward()\n",
    "            learner.optimizer.step()\n",
    "            learner.optimizer.zero_grad()\n",
    "            losses += loss.item()\n",
    "        train_losses.append(losses / (bidx + 1.))\n",
    "        learner.model.eval()\n",
    "        with torch.no_grad():\n",
    "            losses = 0.\n",
    "            accuracies = 0.\n",
    "            for bidx, (batch_x, batch_y) in enumerate(learner.data_bunch.valid_dl):\n",
    "                outs = learner.model(batch_x)\n",
    "                losses += learner.loss_func(outs, batch_y).item()\n",
    "                accuracies += learner.get_accuracy(outs, batch_y).item()\n",
    "            valid_losses.append(losses / (bidx + 1.))\n",
    "            valid_accuracies.append(accuracies / (bidx + 1.))\n",
    "    return (train_losses, valid_losses, valid_accuracies)"
   ]
  },
  {
   "cell_type": "code",
   "execution_count": null,
   "metadata": {
    "hidden": true
   },
   "outputs": [],
   "source": [
    "metrics = fit(learner, 10)\n",
    "train_losses, valid_losses, valid_accuracies = metics"
   ]
  },
  {
   "cell_type": "code",
   "execution_count": null,
   "metadata": {
    "hidden": true
   },
   "outputs": [],
   "source": [
    "import matplotlib.pyplot as plt\n",
    "fig, axs = plt.subplots(1, 2)\n",
    "\n",
    "axs[0].plot(train_losses, label='train')\n",
    "axs[0].plot(valid_losses, label='valid')\n",
    "axs[0].legend()\n",
    "axs[0].set_title('Losses')\n",
    "\n",
    "axs[1].plot(valid_accuracies)\n",
    "axs[1].set_title('Accuracy')\n",
    "\n",
    "fig.set_size_inches((10, 5))"
   ]
  },
  {
   "cell_type": "code",
   "execution_count": null,
   "metadata": {
    "hidden": true
   },
   "outputs": [],
   "source": [
    "def train_epoch(batch_x, batch_y, callbacks):\n",
    "    out\n",
    "for bidx, (batch_x, batch_y) in enumerate(learner.data_bunch.train_dl):\n",
    "            outs = learner.model(batch_x)\n",
    "            loss = learner.loss_func(outs, batch_y)\n",
    "            loss.backward()\n",
    "            learner.optimizer.step()\n",
    "            learner.optimizer.zero_grad()\n",
    "            losses += loss.item()\n",
    "        train_losses.append(losses / (bidx + 1.))\n",
    "        learner.model.eval()\n"
   ]
  },
  {
   "cell_type": "markdown",
   "metadata": {},
   "source": [
    "## Callbacks"
   ]
  },
  {
   "cell_type": "code",
   "execution_count": 15,
   "metadata": {},
   "outputs": [],
   "source": [
    "#export\n",
    "def get_accuracy(self, logits, targets):\n",
    "    preds = logits.argmax(1)\n",
    "    return (preds==targets).float().mean()"
   ]
  },
  {
   "cell_type": "code",
   "execution_count": 16,
   "metadata": {},
   "outputs": [],
   "source": [
    "#export\n",
    "import torch\n",
    "from torch import optim\n",
    "from torch import nn\n",
    "import torch.nn.functional as F\n",
    "\n",
    "class Learner():\n",
    "    def __init__(self, data_bunch, callback_list=None):\n",
    "        self.data_bunch = data_bunch\n",
    "        self._get_model()\n",
    "        self._get_optimizer()\n",
    "        self._loss_func()\n",
    "        self.callback_list = callback_list\n",
    "        self.epoch = 0\n",
    "        self.batch_x = None\n",
    "        self.batch_y = None\n",
    "        self.metrics = {}\n",
    "\n",
    "    def _get_model(self, num_hidden=50, num_out=10):\n",
    "        num_in = self.data_bunch.train_data[:][0].size(1)\n",
    "        self.model = nn.Sequential(nn.Linear(num_in, num_hidden), nn.ReLU(), nn.Linear(num_hidden, num_out))\n",
    "\n",
    "    def _get_optimizer(self, lr=0.5):\n",
    "        self.optimizer = optim.SGD(self.model.parameters(), lr=lr)\n",
    "        \n",
    "    def _loss_func(self):\n",
    "        self.loss_func = F.cross_entropy\n",
    "\n",
    "    def forward(self, bx, by):\n",
    "        logits = self.model(bx)\n",
    "        loss = self.loss_func(logits, by)\n",
    "        return logits, loss\n",
    "    \n",
    "    def backward(self, loss):\n",
    "        loss.backward()\n",
    "        self.optimizer.step()\n",
    "        self.optimizer.zero_grad()\n",
    "       \n",
    "    def fit(self, epochs):\n",
    "        self.callback('fit_begin')\n",
    "        for self.epoch in range(epochs):\n",
    "            self.model.train()\n",
    "            self.callback('train_begin')\n",
    "            for (self.batch_x, self.batch_y) in self.data_bunch.train_dl:\n",
    "                logits, loss = self.forward(self.batch_x, self.batch_y)\n",
    "                self.backward(loss)\n",
    "                self.callback('train_batch_end', logits, loss)\n",
    "            self.model.eval()\n",
    "            with torch.no_grad():\n",
    "                self.callback('validation_begin')\n",
    "                for (self.batch_x, self.batch_y) in self.data_bunch.valid_dl:\n",
    "                    logits, loss = self.forward(self.batch_x, self.batch_y)\n",
    "                    self.callback('validation_batch_end', logits, loss)\n",
    "            self.callback('epoch_end')\n",
    "        self.callback('fit_end')\n",
    "    \n",
    "    def callback(self, cb_name, *args, **kwargs):\n",
    "        if self.callback_list:\n",
    "            for cb in self.callback_list:\n",
    "                cb_method = getattr(cb, cb_name, None)\n",
    "                if cb_method:\n",
    "                    cb.init_learner(self)\n",
    "                    cb_method(*args, **kwargs)"
   ]
  },
  {
   "cell_type": "code",
   "execution_count": 17,
   "metadata": {
    "run_control": {
     "marked": false
    }
   },
   "outputs": [],
   "source": [
    "#export\n",
    "class Callback():\n",
    "    \"Base class for callbacks\"\n",
    "    def init_learner(self, learner):\n",
    "        self.learner = learner"
   ]
  },
  {
   "cell_type": "code",
   "execution_count": 18,
   "metadata": {},
   "outputs": [],
   "source": [
    "#export\n",
    "class AccuracyCallback(Callback):\n",
    "    def fit_begin(self):\n",
    "        self.accuracies = []\n",
    "        \n",
    "    def validation_begin(self):\n",
    "        self.num_correct = 0.\n",
    "        self.num_total = 0.\n",
    "        \n",
    "    def validation_batch_end(self, logits, *args, **kwargs):\n",
    "        preds = logits.argmax(1)\n",
    "        targets = learner.batch_y\n",
    "        self.num_correct += (preds==targets).float().sum()\n",
    "        self.num_total += len(logits)\n",
    "        \n",
    "    def epoch_end(self):\n",
    "        accuracy = self.num_correct / self.num_total\n",
    "        self.accuracies.append(accuracy)\n",
    "        \n",
    "    def fit_end(self):\n",
    "        learner.metrics['val_accuracies'] = self.accuracies\n",
    "        print(f'Final accuracy: {self.accuracies[-1]:4.6f}')"
   ]
  },
  {
   "cell_type": "code",
   "execution_count": 19,
   "metadata": {},
   "outputs": [],
   "source": [
    "#export\n",
    "class LossCallback(Callback):\n",
    "    def fit_begin(self):\n",
    "        self.train_losses = []\n",
    "        self.valid_losses = []\n",
    "        \n",
    "    def train_begin(self):\n",
    "        self.t_loss_total = 0.\n",
    "        self.t_num_total = 0.\n",
    "        \n",
    "    def train_batch_end(self, logits, loss, *args, **kwargs):\n",
    "        num_instances = len(logits)\n",
    "        self.t_num_total += num_instances\n",
    "        self.t_loss_total += loss * num_instances\n",
    "\n",
    "    def validation_begin(self):\n",
    "        self.v_loss_total = 0.\n",
    "        self.v_num_total = 0.\n",
    "        \n",
    "    def validation_batch_end(self, logits, loss, *args, **kwargs):\n",
    "        num_instances = len(logits)\n",
    "        self.v_num_total += num_instances\n",
    "        self.v_loss_total += loss * num_instances\n",
    "        \n",
    "    def epoch_end(self):\n",
    "        t_loss = self.t_loss_total / self.t_num_total\n",
    "        v_loss = self.v_loss_total / self.v_num_total\n",
    "        self.train_losses.append(t_loss)\n",
    "        self.valid_losses.append(v_loss)\n",
    "        \n",
    "    def fit_end(self):\n",
    "        learner.metrics['train_losses'] = self.train_losses\n",
    "        learner.metrics['valid_losses'] = self.valid_losses"
   ]
  },
  {
   "cell_type": "code",
   "execution_count": 20,
   "metadata": {},
   "outputs": [],
   "source": [
    "#export\n",
    "import matplotlib.pyplot as plt\n",
    "class PlotsCallback(Callback):\n",
    "    def fit_end(self):\n",
    "        metrics_fig = plt.figure(figsize=(10,5))\n",
    "        if 'train_losses' in learner.metrics:\n",
    "            ax = metrics_fig.add_subplot(1, 2, 1)\n",
    "            ax.plot(learner.metrics['train_losses'], label='train')\n",
    "            ax.plot(learner.metrics['valid_losses'], label='valid')\n",
    "            ax.set_title('Losses')\n",
    "            ax.set_xlabel('Epoch')\n",
    "            ax.set_ylabel('Cross_entropy')\n",
    "            ax.legend()\n",
    "        if 'val_accuracies' in learner.metrics:\n",
    "            ax = metrics_fig.add_subplot(1, 2, 2)\n",
    "            ax.plot(learner.metrics['val_accuracies'])\n",
    "            ax.set_title('Validation accuracy')\n",
    "            ax.set_xlabel('Epoch')\n",
    "            ax.set_ylabel('Accuracy (%)')                "
   ]
  },
  {
   "cell_type": "code",
   "execution_count": 21,
   "metadata": {},
   "outputs": [],
   "source": [
    "callbacks = [AccuracyCallback(), LossCallback(), PlotsCallback()]"
   ]
  },
  {
   "cell_type": "code",
   "execution_count": 22,
   "metadata": {
    "scrolled": true
   },
   "outputs": [
    {
     "name": "stdout",
     "output_type": "stream",
     "text": [
      "Final accuracy: 0.937900\n"
     ]
    },
    {
     "data": {
      "image/png": "[encoded data removed]",
      "text/plain": [
       "<Figure size 720x360 with 2 Axes>"
      ]
     },
     "metadata": {
      "needs_background": "light"
     },
     "output_type": "display_data"
    }
   ],
   "source": [
    "learner = Learner(mnist_bunch, callbacks)\n",
    "learner.fit(10)"
   ]
  },
  {
   "cell_type": "code",
   "execution_count": 23,
   "metadata": {},
   "outputs": [
    {
     "name": "stdout",
     "output_type": "stream",
     "text": [
      "Converted 04Magda_callbacks.ipynb to exp/nb_04Magda.py\r\n"
     ]
    }
   ],
   "source": [
    "!python notebook2script.py 04Magda_callbacks.ipynb"
   ]
  }
 ],
 "metadata": {
  "kernelspec": {
   "display_name": "Python 3",
   "language": "python",
   "name": "python3"
  },
  "language_info": {
   "codemirror_mode": {
    "name": "ipython",
    "version": 3
   },
   "file_extension": ".py",
   "mimetype": "text/x-python",
   "name": "python",
   "nbconvert_exporter": "python",
   "pygments_lexer": "ipython3",
   "version": "3.7.7"
  }
 },
 "nbformat": 4,
 "nbformat_minor": 4
}
