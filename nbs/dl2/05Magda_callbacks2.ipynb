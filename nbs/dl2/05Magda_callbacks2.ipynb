{
 "cells": [
  {
   "cell_type": "code",
   "execution_count": 1,
   "metadata": {},
   "outputs": [],
   "source": [
    "%matplotlib inline\n",
    "%load_ext autoreload\n",
    "%autoreload 2"
   ]
  },
  {
   "cell_type": "markdown",
   "metadata": {},
   "source": [
    "## Callbacks"
   ]
  },
  {
   "cell_type": "code",
   "execution_count": 2,
   "metadata": {},
   "outputs": [],
   "source": [
    "from time import sleep\n",
    "def slow_calculator(cb=None):\n",
    "    res = 0\n",
    "    for i in range(5):\n",
    "        res += i*i\n",
    "        sleep(0.5)\n",
    "        if cb: cb(i)\n",
    "    return res"
   ]
  },
  {
   "cell_type": "code",
   "execution_count": 3,
   "metadata": {},
   "outputs": [],
   "source": [
    "def show_progress(text, val):\n",
    "    print(text, val)"
   ]
  },
  {
   "cell_type": "code",
   "execution_count": 4,
   "metadata": {},
   "outputs": [],
   "source": [
    "show_value = lambda x: show_progress('Value is:', x)"
   ]
  },
  {
   "cell_type": "code",
   "execution_count": 5,
   "metadata": {},
   "outputs": [
    {
     "name": "stdout",
     "output_type": "stream",
     "text": [
      "Value is: 0\n",
      "Value is: 1\n",
      "Value is: 2\n",
      "Value is: 3\n",
      "Value is: 4\n"
     ]
    },
    {
     "data": {
      "text/plain": [
       "30"
      ]
     },
     "execution_count": 5,
     "metadata": {},
     "output_type": "execute_result"
    }
   ],
   "source": [
    "slow_calculator(show_value)"
   ]
  },
  {
   "cell_type": "code",
   "execution_count": 6,
   "metadata": {},
   "outputs": [],
   "source": [
    "def make_show_progress(exclamation):\n",
    "    _inner = lambda x: show_progress(exclamation, x)\n",
    "    return _inner"
   ]
  },
  {
   "cell_type": "code",
   "execution_count": 7,
   "metadata": {},
   "outputs": [
    {
     "name": "stdout",
     "output_type": "stream",
     "text": [
      "Heya:  0\n",
      "Heya:  1\n",
      "Heya:  2\n",
      "Heya:  3\n",
      "Heya:  4\n"
     ]
    },
    {
     "data": {
      "text/plain": [
       "30"
      ]
     },
     "execution_count": 7,
     "metadata": {},
     "output_type": "execute_result"
    }
   ],
   "source": [
    "slow_calculator(make_show_progress('Heya: '))"
   ]
  },
  {
   "cell_type": "code",
   "execution_count": 8,
   "metadata": {},
   "outputs": [],
   "source": [
    "my_exclam = make_show_progress('Cislo:')"
   ]
  },
  {
   "cell_type": "code",
   "execution_count": 9,
   "metadata": {},
   "outputs": [
    {
     "name": "stdout",
     "output_type": "stream",
     "text": [
      "Cislo: 0\n",
      "Cislo: 1\n",
      "Cislo: 2\n",
      "Cislo: 3\n",
      "Cislo: 4\n"
     ]
    },
    {
     "data": {
      "text/plain": [
       "30"
      ]
     },
     "execution_count": 9,
     "metadata": {},
     "output_type": "execute_result"
    }
   ],
   "source": [
    "slow_calculator(my_exclam)"
   ]
  },
  {
   "cell_type": "code",
   "execution_count": 10,
   "metadata": {},
   "outputs": [
    {
     "data": {
      "text/plain": [
       "<function __main__.make_show_progress(exclamation)>"
      ]
     },
     "execution_count": 10,
     "metadata": {},
     "output_type": "execute_result"
    }
   ],
   "source": [
    "make_show_progress"
   ]
  },
  {
   "cell_type": "code",
   "execution_count": 11,
   "metadata": {},
   "outputs": [
    {
     "data": {
      "text/plain": [
       "<function __main__.make_show_progress.<locals>.<lambda>(x)>"
      ]
     },
     "execution_count": 11,
     "metadata": {},
     "output_type": "execute_result"
    }
   ],
   "source": [
    "my_exclam"
   ]
  },
  {
   "cell_type": "markdown",
   "metadata": {},
   "source": [
    "### callbacks as classes"
   ]
  },
  {
   "cell_type": "code",
   "execution_count": 12,
   "metadata": {},
   "outputs": [],
   "source": [
    "def slow_calculator(cb=None):\n",
    "    res = 0\n",
    "    for i in range(5):\n",
    "        if cb:\n",
    "            cb.before_calc(i)\n",
    "        res += i*i\n",
    "        sleep(0.5)\n",
    "        if cb and hasattr(cb, 'after_calc'):\n",
    "            if cb.after_calc(i, res=res):\n",
    "                break\n",
    "    return res"
   ]
  },
  {
   "cell_type": "code",
   "execution_count": 13,
   "metadata": {
    "run_control": {
     "marked": false
    }
   },
   "outputs": [],
   "source": [
    "class PrintCallback():\n",
    "    def before_calc(self, i, *args, **kwargs):\n",
    "        print('Doing calculations for round:', i)\n",
    "    \n",
    "    def after_calc(self, i, *args, res=None, **kwargs):\n",
    "        print('Result is:', res)\n",
    "        if res>10:\n",
    "            print('res > 10 - breaking')\n",
    "            return True\n",
    "    "
   ]
  },
  {
   "cell_type": "code",
   "execution_count": 14,
   "metadata": {
    "run_control": {
     "marked": false
    }
   },
   "outputs": [
    {
     "name": "stdout",
     "output_type": "stream",
     "text": [
      "Doing calculations for round: 0\n",
      "Result is: 0\n",
      "Doing calculations for round: 1\n",
      "Result is: 1\n",
      "Doing calculations for round: 2\n",
      "Result is: 5\n",
      "Doing calculations for round: 3\n",
      "Result is: 14\n",
      "res > 10 - breaking\n"
     ]
    },
    {
     "data": {
      "text/plain": [
       "14"
      ]
     },
     "execution_count": 14,
     "metadata": {},
     "output_type": "execute_result"
    }
   ],
   "source": [
    "slow_calculator(PrintCallback())"
   ]
  },
  {
   "cell_type": "code",
   "execution_count": 15,
   "metadata": {},
   "outputs": [
    {
     "data": {
      "text/plain": [
       "True"
      ]
     },
     "execution_count": 15,
     "metadata": {},
     "output_type": "execute_result"
    }
   ],
   "source": [
    "hasattr(PrintCallback(), 'after_calc')"
   ]
  },
  {
   "cell_type": "markdown",
   "metadata": {},
   "source": [
    "### Modifying behaviour"
   ]
  },
  {
   "cell_type": "code",
   "execution_count": 16,
   "metadata": {},
   "outputs": [],
   "source": [
    "class SlowCalculator():\n",
    "    def __init__(self):\n",
    "        self.res = 0\n",
    "    \n",
    "    def before_calc(self, i, *args, **kwargs):\n",
    "        print('Doing calculations for round:', i)\n",
    "    \n",
    "    def after_calc(self, i, *args, res=None, **kwargs):\n",
    "        print('Result is:', res)\n",
    "        if res>10:\n",
    "            print('res > 10 - breaking')\n",
    "            return True\n",
    "    \n",
    "    def __call__(self):\n",
    "        res = 0\n",
    "        for i in range(5):\n",
    "            self.before_calc(i)\n",
    "            res += i*i\n",
    "            sleep(0.5)\n",
    "            if self.after_calc(i, res=res):\n",
    "                break\n",
    "        return res        "
   ]
  },
  {
   "cell_type": "code",
   "execution_count": 17,
   "metadata": {},
   "outputs": [],
   "source": [
    "sc = SlowCalculator()"
   ]
  },
  {
   "cell_type": "code",
   "execution_count": 18,
   "metadata": {},
   "outputs": [
    {
     "name": "stdout",
     "output_type": "stream",
     "text": [
      "Doing calculations for round: 0\n",
      "Result is: 0\n",
      "Doing calculations for round: 1\n",
      "Result is: 1\n",
      "Doing calculations for round: 2\n",
      "Result is: 5\n",
      "Doing calculations for round: 3\n",
      "Result is: 14\n",
      "res > 10 - breaking\n"
     ]
    },
    {
     "data": {
      "text/plain": [
       "14"
      ]
     },
     "execution_count": 18,
     "metadata": {},
     "output_type": "execute_result"
    }
   ],
   "source": [
    "sc()"
   ]
  },
  {
   "cell_type": "code",
   "execution_count": 121,
   "metadata": {},
   "outputs": [],
   "source": [
    "class SlowCalculator():\n",
    "    def __init__(self, cbs=None):\n",
    "        self.cbs = cbs\n",
    "        self.res = 0\n",
    "        \n",
    "    def callbacks(self, cb_name, *args, **kwargs):\n",
    "        if not self.cbs: return\n",
    "        for cb in self.cbs:\n",
    "            cb_method = getattr(cb, cb_name, None)\n",
    "            if cb_method:\n",
    "                cb_method(self, *args, **kwargs)\n",
    "    \n",
    "    def __call__(self):\n",
    "        for i in range(10):\n",
    "            self.callbacks('before_calc', i)\n",
    "            self.res += 1\n",
    "            self.res *= i\n",
    "            sleep(0.5)\n",
    "            if self.callbacks('after_calc', i, res=self.res):\n",
    "                break\n",
    "        return self.res        "
   ]
  },
  {
   "cell_type": "code",
   "execution_count": 117,
   "metadata": {},
   "outputs": [],
   "source": [
    "class ModifyingCallback():\n",
    "    def before_calc(self, calc, i, *args, **kwargs):\n",
    "        print('Modifying callback:', i)\n",
    "    \n",
    "    def after_calc(self, calc, i, *args, **kwargs):\n",
    "        print('Result is:', calc.res)\n",
    "        if calc.res>5 and calc.res<100:\n",
    "            calc.res -= 1\n",
    "            print('New results is:', calc.res)\n",
    "        if calc.res>100:\n",
    "            print('res > 100 - breaking')\n",
    "            return True"
   ]
  },
  {
   "cell_type": "code",
   "execution_count": 118,
   "metadata": {},
   "outputs": [],
   "source": [
    "callbacks = [PrintingCallback(), ModifyingCallback()]"
   ]
  },
  {
   "cell_type": "code",
   "execution_count": 119,
   "metadata": {},
   "outputs": [],
   "source": [
    "sc = SlowCalculator(callbacks)"
   ]
  },
  {
   "cell_type": "code",
   "execution_count": 120,
   "metadata": {
    "run_control": {
     "marked": false
    }
   },
   "outputs": [
    {
     "name": "stdout",
     "output_type": "stream",
     "text": [
      "Printing callback: 0\n",
      "Modifying callback: 0\n",
      "Prinitng Result is: 0\n",
      "Result is: 0\n",
      "Printing callback: 1\n",
      "Modifying callback: 1\n",
      "Prinitng Result is: 1\n",
      "Result is: 1\n",
      "Printing callback: 2\n",
      "Modifying callback: 2\n",
      "Prinitng Result is: 4\n",
      "Result is: 4\n",
      "Printing callback: 3\n",
      "Modifying callback: 3\n",
      "Prinitng Result is: 15\n",
      "Result is: 15\n",
      "New results is: 14\n",
      "Printing callback: 4\n",
      "Modifying callback: 4\n",
      "Prinitng Result is: 60\n",
      "Result is: 60\n",
      "New results is: 59\n",
      "Printing callback: 5\n",
      "Modifying callback: 5\n",
      "Prinitng Result is: 300\n",
      "Result is: 300\n",
      "res > 100 - breaking\n",
      "Printing callback: 6\n",
      "Modifying callback: 6\n",
      "Prinitng Result is: 1806\n",
      "Result is: 1806\n",
      "res > 100 - breaking\n",
      "Printing callback: 7\n",
      "Modifying callback: 7\n",
      "Prinitng Result is: 12649\n",
      "Result is: 12649\n",
      "res > 100 - breaking\n",
      "Printing callback: 8\n",
      "Modifying callback: 8\n",
      "Prinitng Result is: 101200\n",
      "Result is: 101200\n",
      "res > 100 - breaking\n",
      "Printing callback: 9\n",
      "Modifying callback: 9\n",
      "Prinitng Result is: 910809\n",
      "Result is: 910809\n",
      "res > 100 - breaking\n"
     ]
    },
    {
     "data": {
      "text/plain": [
       "910809"
      ]
     },
     "execution_count": 120,
     "metadata": {},
     "output_type": "execute_result"
    }
   ],
   "source": [
    "sc()"
   ]
  },
  {
   "cell_type": "code",
   "execution_count": 77,
   "metadata": {},
   "outputs": [],
   "source": [
    "class PrintingCallback():\n",
    "    def before_calc(self, calc, i, *args, **kwargs):\n",
    "        print('Printing callback:', i)\n",
    "    \n",
    "    def after_calc(self, calc, i, *args, **kwargs):\n",
    "        print('Prinitng Result is:', calc.res)"
   ]
  }
 ],
 "metadata": {
  "kernelspec": {
   "display_name": "Python 3",
   "language": "python",
   "name": "python3"
  },
  "language_info": {
   "codemirror_mode": {
    "name": "ipython",
    "version": 3
   },
   "file_extension": ".py",
   "mimetype": "text/x-python",
   "name": "python",
   "nbconvert_exporter": "python",
   "pygments_lexer": "ipython3",
   "version": "3.7.7"
  }
 },
 "nbformat": 4,
 "nbformat_minor": 4
}
